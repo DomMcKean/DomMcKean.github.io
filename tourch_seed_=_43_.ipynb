{
  "nbformat": 4,
  "nbformat_minor": 0,
  "metadata": {
    "kernelspec": {
      "display_name": "Python 3",
      "language": "python",
      "name": "python3"
    },
    "language_info": {
      "codemirror_mode": {
        "name": "ipython",
        "version": 3
      },
      "file_extension": ".py",
      "mimetype": "text/x-python",
      "name": "python",
      "nbconvert_exporter": "python",
      "pygments_lexer": "ipython3",
      "version": "3.7.6"
    },
    "colab": {
      "name": "tourch seed = 43 .ipynb",
      "provenance": [],
      "collapsed_sections": [],
      "include_colab_link": true
    },
    "accelerator": "GPU"
  },
  "cells": [
    {
      "cell_type": "markdown",
      "metadata": {
        "id": "view-in-github",
        "colab_type": "text"
      },
      "source": [
        "<a href=\"https://colab.research.google.com/github/DomMcKean/DomMcKean.github.io/blob/main/tourch_seed_%3D_43_.ipynb\" target=\"_parent\"><img src=\"https://colab.research.google.com/assets/colab-badge.svg\" alt=\"Open In Colab\"/></a>"
      ]
    },
    {
      "cell_type": "markdown",
      "metadata": {
        "id": "lX11X6HgJtC7"
      },
      "source": [
        "# Mount google Drive\n",
        "Allow Colab to access your Google Drive for saving models and other things. \n"
      ]
    },
    {
      "cell_type": "code",
      "metadata": {
        "id": "RtEIpTbrfxxB",
        "colab": {
          "base_uri": "https://localhost:8080/"
        },
        "outputId": "94146107-ff84-40ed-e2aa-258905ca4e92"
      },
      "source": [
        "from google.colab import drive\n",
        "drive.mount('/content/drive')"
      ],
      "execution_count": 1,
      "outputs": [
        {
          "output_type": "stream",
          "text": [
            "Mounted at /content/drive\n"
          ],
          "name": "stdout"
        }
      ]
    },
    {
      "cell_type": "markdown",
      "metadata": {
        "id": "lPmlOUyqKZUA"
      },
      "source": [
        "# Import Libraries"
      ]
    },
    {
      "cell_type": "code",
      "metadata": {
        "scrolled": true,
        "id": "mzCKBtLA-zOi"
      },
      "source": [
        "% reset -f\n",
        "from __future__ import print_function\n",
        "from __future__ import division\n",
        "import torch\n",
        "import torch.nn.functional as F\n",
        "from torch import nn, optim\n",
        "import sys\n",
        "import os\n",
        "import glob\n",
        "import numpy as np\n",
        "import math\n",
        "import pandas as pd\n",
        "import matplotlib.pyplot as plt\n",
        "from matplotlib.pyplot import figure\n",
        "from matplotlib.backends.backend_pdf import PdfPages\n",
        "import matplotlib.ticker as plticker\n",
        "%matplotlib inline\n",
        "from sklearn.preprocessing import StandardScaler\n",
        "from scipy.stats import norm\n",
        "import random\n",
        "import time\n",
        "from datetime import datetime\n",
        "from subprocess import call\n",
        "import warnings\n",
        "warnings.filterwarnings(\"ignore\")\n"
      ],
      "execution_count": 2,
      "outputs": []
    },
    {
      "cell_type": "markdown",
      "metadata": {
        "id": "NK0q99L_KuNe"
      },
      "source": [
        "# Version Data\n",
        "This block return Python, PyTorch and CUDA versions, plus, the number of GPUs available as well as any prosesses currently running. The gpu data can be copyed to elsewhere in the code, such as in the training loop to check gpu prosesses and memory usage. \n",
        "\n",
        "versions used here are:\n",
        "\n",
        "    Python VERSION: 3.6.9 \n",
        "    pyTorch VERSION: 1.5.1+cu101\n",
        "    CUDA VERSION:\n",
        "        Cuda compilation tools, release 10.1, V10.1.243\n",
        "        CUDNN VERSION: 7603\n"
      ]
    },
    {
      "cell_type": "code",
      "metadata": {
        "id": "cKX3q9H0_RZl",
        "colab": {
          "base_uri": "https://localhost:8080/"
        },
        "outputId": "70105369-8dd7-439c-de7c-d60049a3536e"
      },
      "source": [
        "print('__Python VERSION:', sys.version)\n",
        "print('__pyTorch VERSION:', torch.__version__)\n",
        "print('__CUDA VERSION')\n",
        "! nvcc --version\n",
        "print('__CUDNN VERSION:', torch.backends.cudnn.version())\n",
        "print('__Number CUDA Devices:', torch.cuda.device_count())\n",
        "print('__Devices')\n",
        "call([\"nvidia-smi\", \"--format=csv\", \"--query-gpu=index,name,driver_version,memory.total,memory.used,memory.free\"])\n",
        "print('Active CUDA Device: GPU', torch.cuda.current_device())\n",
        "print('Available devices ', torch.cuda.device_count())\n",
        "print('Current cuda device ', torch.cuda.current_device())\n",
        "\n",
        "gpu_info = !nvidia-smi\n",
        "gpu_info = '\\n'.join(gpu_info)\n",
        "if gpu_info.find('failed') >= 0:\n",
        "  print('Select the Runtime > \"Change runtime type\" menu to enable a GPU accelerator, ')\n",
        "  print('and then re-execute this cell.')\n",
        "else:\n",
        "  print(gpu_info)"
      ],
      "execution_count": 3,
      "outputs": [
        {
          "output_type": "stream",
          "text": [
            "__Python VERSION: 3.6.9 (default, Oct  8 2020, 12:12:24) \n",
            "[GCC 8.4.0]\n",
            "__pyTorch VERSION: 1.7.0+cu101\n",
            "__CUDA VERSION\n",
            "nvcc: NVIDIA (R) Cuda compiler driver\n",
            "Copyright (c) 2005-2019 NVIDIA Corporation\n",
            "Built on Sun_Jul_28_19:07:16_PDT_2019\n",
            "Cuda compilation tools, release 10.1, V10.1.243\n",
            "__CUDNN VERSION: 7603\n",
            "__Number CUDA Devices: 1\n",
            "__Devices\n",
            "Active CUDA Device: GPU 0\n",
            "Available devices  1\n",
            "Current cuda device  0\n",
            "Mon Jan  4 12:19:11 2021       \n",
            "+-----------------------------------------------------------------------------+\n",
            "| NVIDIA-SMI 460.27.04    Driver Version: 418.67       CUDA Version: 10.1     |\n",
            "|-------------------------------+----------------------+----------------------+\n",
            "| GPU  Name        Persistence-M| Bus-Id        Disp.A | Volatile Uncorr. ECC |\n",
            "| Fan  Temp  Perf  Pwr:Usage/Cap|         Memory-Usage | GPU-Util  Compute M. |\n",
            "|                               |                      |               MIG M. |\n",
            "|===============================+======================+======================|\n",
            "|   0  Tesla P100-PCIE...  Off  | 00000000:00:04.0 Off |                    0 |\n",
            "| N/A   34C    P0    26W / 250W |     10MiB / 16280MiB |      0%      Default |\n",
            "|                               |                      |                 ERR! |\n",
            "+-------------------------------+----------------------+----------------------+\n",
            "                                                                               \n",
            "+-----------------------------------------------------------------------------+\n",
            "| Processes:                                                                  |\n",
            "|  GPU   GI   CI        PID   Type   Process name                  GPU Memory |\n",
            "|        ID   ID                                                   Usage      |\n",
            "|=============================================================================|\n",
            "|  No running processes found                                                 |\n",
            "+-----------------------------------------------------------------------------+\n"
          ],
          "name": "stdout"
        }
      ]
    },
    {
      "cell_type": "markdown",
      "metadata": {
        "id": "d5WXvVoh-zOu"
      },
      "source": [
        "Check CUDA is available"
      ]
    },
    {
      "cell_type": "code",
      "metadata": {
        "id": "YJf9cG7o-zOw",
        "colab": {
          "base_uri": "https://localhost:8080/"
        },
        "outputId": "16d6e4fe-baa6-4d25-a5e2-dc675a08482a"
      },
      "source": [
        "torch.cuda.is_available()"
      ],
      "execution_count": 4,
      "outputs": [
        {
          "output_type": "execute_result",
          "data": {
            "text/plain": [
              "True"
            ]
          },
          "metadata": {
            "tags": []
          },
          "execution_count": 4
        }
      ]
    },
    {
      "cell_type": "markdown",
      "metadata": {
        "id": "HW5oLv2AQESC"
      },
      "source": [
        "\n",
        "\n",
        "# Input Model Hyper-parameter settings\n",
        "---\n",
        "Here, one can stipulate the model number which is used to make a unique directory in your Google drive, along with sub-directories containing all the testing metrics. \n",
        "\n",
        "The hyper-parameters that can be changed here are:\n",
        "<br>\n",
        "<br>\n",
        "**lr** = learning rate.\n",
        "<br>\n",
        "**fc** = number of fully connected layers bolted on to the back of the LSTM layers.\n",
        "<br>\n",
        "**path** = your desiered path to save and load models in Google Drive. \n",
        "<br>\n",
        "**hidden** = number of hidden LSTM layers.\n",
        "<br>\n",
        "**epochs** = number of times to run through the whole training data.\n",
        "<br>\n",
        "**seq_length** = sequence length = the number of samples in each slice of a trajectory.\n",
        "<br>\n",
        "**feature_num** = number of features or independent variables in the data. \n",
        "<br>\n",
        "<br>\n",
        "Adjusting the number of features allows users to use a variable number of features or different types of data, such as joint data with 4 joints or Cartesian data with 6 Cartesian positions. \n",
        "<br>\n",
        "\n",
        "The model automatically adjusts itself depending on the number of layers and features required. \n",
        "\n",
        "---\n",
        "\n",
        "\n"
      ]
    },
    {
      "cell_type": "code",
      "metadata": {
        "id": "35dozZZC3Nut",
        "colab": {
          "base_uri": "https://localhost:8080/"
        },
        "outputId": "84d34092-ccf0-4ce9-af66-a817088d9e18"
      },
      "source": [
        "'''              ### MODEL HYPER-PARAMETER SETTINGS ###\n",
        "-------------------------------------------------------------------------------\n",
        "Here, the model hyper-parameters can be set, along with the save model path \n",
        "and the warm start model parameters path if using a pretrained model. \n",
        "'''\n",
        "model_num  = '38'        ## Unique model number for saving new model.\n",
        "model_dir  = 'model38'   ## New directory name to save new model to. \n",
        "random_seed = 0        ## Used to seed the random number generator for reproducibility.\n",
        "\n",
        "params     = ''     ## Pretrained model params to load...\n",
        "warm_start = False        ## ...and if to load them or not.\n",
        "seq_length = 125          ## The length of the trajectory slice trained on.\n",
        "traj_length = 500\n",
        "epochs     = 101          ## Number of full passes through the whole dataset.\n",
        "hidden     = 64         ## Number of nodes in the LSTM layers.\n",
        "lstm_layers = 2\n",
        "lr         = 0.005#0.0005       ## Learning rate.\n",
        "feature_num   =  6        ## 4 features for joint data, 6 features for cartesian data.\n",
        "fc         = 1           ## Number of fully connected layers. 1 or 2.\n",
        "dropout = 0.5#0.5\n",
        "\n",
        "## Remarks about this particular test.\n",
        "notes = (\"\"\"  \n",
        "            \n",
        "\"\"\")\n",
        "\n",
        "np.random.seed(random_seed)\n",
        "torch.manual_seed(43) ## We should keep the same torch seed for the same weight initialisation.\n",
        "path       = f\"/content/drive/My Drive/PhD/PhD/lstm3/{model_dir}/\" ## Save directory.\n",
        "\n",
        "#------------------------------------------------------------------------------\n",
        "## I increased the batch size and lr by 1 order.\n",
        "\n",
        "## Functions to fetch hyper-parameters\n",
        "def model_number():\n",
        "    return model_num\n",
        "\n",
        "def load_params():\n",
        "    return params\n",
        "\n",
        "def model_directory():\n",
        "    return model_dir\n",
        "\n",
        "def get_seq_length():\n",
        "    return seq_length\n",
        "\n",
        "def get_traj_length():\n",
        "    return traj_length\n",
        "\n",
        "def get_epochs():\n",
        "    return epochs\n",
        "\n",
        "def get_warm_start():\n",
        "    return warm_start\n",
        "\n",
        "def get_hidden():\n",
        "    return hidden\n",
        "\n",
        "def get_lr():\n",
        "    return lr\n",
        "\n",
        "def get_path():\n",
        "    return path\n",
        "\n",
        "def get_features():\n",
        "    return feature_num\n",
        "\n",
        "def get_fc():\n",
        "    return fc\n",
        "\n",
        "def get_lstm_layers():\n",
        "    return lstm_layers\n",
        "\n",
        "def get_random_seed():\n",
        "    return random_seed\n",
        "\n",
        "def get_dropout():\n",
        "    return dropout\n",
        "\n",
        "## Dictionary with which to save paramers.\n",
        "param = {'Model Num':model_num, \n",
        "          'Seq Length': seq_length,\n",
        "          'Epochs': epochs,\n",
        "          'Warm Start': (warm_start),\n",
        "          'Pretrained on': params,\n",
        "          'Hidden Size': hidden,\n",
        "          'Learning Rate': lr,\n",
        "          'features': feature_num, \n",
        "          'Num LSTM Layers':lstm_layers,\n",
        "          'Num FC Layers':fc,\n",
        "          'Dropout': dropout,\n",
        "          'Random Seed': random_seed,\n",
        "          'Data/Notes': '''this dataset has no obstacles, it is a basic \n",
        "          exploreation of the taskspace for a simple RL controller project. .'''\n",
        "}\n",
        "\n",
        "## Create new directory in perent directory to save parameters.\n",
        "try:\n",
        "    os.makedirs(path)\n",
        "except OSError:\n",
        "    print (\"Creation of the directory %s failed or already exists\" % path)\n",
        "else:\n",
        "    print (\"Successfully created the directory %s \" % path)\n",
        "\n",
        "\n",
        "## create a pandas data frame of the model parameters and save to csv.\n",
        "param = pd.DataFrame(param, index=[0])\n",
        "param.to_csv(path + \"lstm_params.csv\", index=False)\n"
      ],
      "execution_count": 5,
      "outputs": [
        {
          "output_type": "stream",
          "text": [
            "Successfully created the directory /content/drive/My Drive/PhD/PhD/lstm3/model38/ \n"
          ],
          "name": "stdout"
        }
      ]
    },
    {
      "cell_type": "markdown",
      "metadata": {
        "id": "RCzMAAlzeTj3"
      },
      "source": [
        "# Testing Loop\n",
        "---\n",
        "\n",
        "This block fetches the testing data and passes it through the model after a set number of training runs.\n",
        "<br>\n",
        "For each trajectory in the training data, three metrics are obtained:\n",
        "<br>\n",
        "<br>\n",
        "**MAE** = Mean Absolute Error accross each trajectory, measured in Newtons.\n",
        "<br>\n",
        "**RMSD** = Root Mean Sqared Deviation. Similar to MAE, but sensitive to outliers.\n",
        "<br>\n",
        "**COV** = Coefficient of Variance = RMSD/mean of the dataset. Useful for comparing performance across different models and datasets.\n",
        "<br>\n",
        "<br>\n",
        "For each trained model, we find the **Grand Mean** or mean of means, **Standard Deviation** and **Max Value** over all the testing trajectories.\n",
        "<br>\n",
        "\n",
        "**PDF** or Probability Density Function and **Gaussian Distribution** plots of each metric are then created to give an intuative view of the metrics used.\n",
        "\n",
        "---\n"
      ]
    },
    {
      "cell_type": "code",
      "metadata": {
        "scrolled": false,
        "id": "O7ZKYszy-zQW"
      },
      "source": [
        "def lighten_color(color, amount=0.5):\n",
        "    import matplotlib.colors as mc\n",
        "    import colorsys\n",
        "    try:\n",
        "        c = mc.cnames[color]\n",
        "    except:\n",
        "        c = color\n",
        "    c = colorsys.rgb_to_hls(*mc.to_rgb(c))\n",
        "    return colorsys.hls_to_rgb(c[0], max(0, min(1, amount * c[1])), c[2])\n",
        "\n",
        "def tests(model_name):\n",
        "    \n",
        "    ## fetch parameters\n",
        "    seq_len = get_seq_length()\n",
        "    model_name = model_name\n",
        "    model_dir = model_directory()\n",
        "    path = get_path()\n",
        "    features_num = get_features()\n",
        "\n",
        "    \n",
        "    ## Create new directory in perent directory\n",
        "    path = path + f\"{model_name}/\"\n",
        "    try:\n",
        "        os.makedirs(path)\n",
        "    except OSError:\n",
        "        print (\"Creation of the directory %s failed\" % path)\n",
        "    else:\n",
        "        print (\"Successfully created the directory %s \" % path)\n",
        "\n",
        "    stats_list = []\n",
        "    pdf = PdfPages(path + f\"testing_traj_pics_{model_name}.pdf\")\n",
        "    fig = plt.figure()\n",
        "\n",
        "    \n",
        "    #model = model.to(device)\n",
        "    #print(model)\n",
        "    #print(\"testing weights\", model.linear1.weight.data) # Check weights are being updated.\n",
        "\n",
        "    #model.reset_hidden_state()\n",
        "    for traj in range(len(test_batches)):\n",
        "        model.reset_hidden_state()\n",
        "        whole_traj = []\n",
        "        whole_true = []\n",
        "\n",
        "        '''Although it is possible to feed in the entire trajectory and get\n",
        "        the same prediction results, this cannot be done within the same model \n",
        "        instance, as the sequence length is fixed. \n",
        "        '''\n",
        "        for start_seq in range(int(get_traj_length()/seq_length)): \n",
        "            start_seqx = start_seq*seq_length ## get the next sequence start position\n",
        "            #model.reset_hidden_state()\n",
        "\n",
        "            Xtest, ytest = get_test_batch(traj, start_seqx)\n",
        "            model.eval()\n",
        "            with torch.no_grad():\n",
        "                \n",
        "                x = iter(Xtest)\n",
        "                test_seq = Xtest[0].reshape(-1,seq_len,features_num)#.reshape(1,200,4) # input first sequence from trajectory/batch\n",
        "                preds = [] # create a list to store predictions.\n",
        "                for i in range(len(Xtest)): # for each sequence i in the trajectory,\n",
        "                    y_test_pred = model(test_seq).to(device)# send sequence to model,\n",
        "                    pred = torch.flatten(y_test_pred).cpu() # reshape the model output,\n",
        "                    preds.append(np.asarray(pred)) # and append to the list of predictions - preds.\n",
        "                    new_seq = next(x).reshape(-1,seq_len,features_num)#.reshape(1,200,4) # Change sequence to the next one in the list.\n",
        "                    test_seq = torch.cuda.FloatTensor(new_seq).view(1, seq_len, -1) # change sequence to a torch Tensor\n",
        "                \n",
        "            whole_traj.append(preds)\n",
        "            whole_true.append(ytest)\n",
        "        whole_true = np.array(whole_true).reshape(-1,)\n",
        "        ## rescale the output predictions\n",
        "        preds = target_scaler.inverse_transform(whole_traj).reshape(-1,3)\n",
        "        ## Vector summation - the vector sum of the 3 output predictions\n",
        "        force_vec = np.sqrt((preds[:,0]**2)+(preds[:,1]**2)+(preds[:,2]**2))\n",
        "        \n",
        "        ytest = whole_true\n",
        "        preds = force_vec ## reset name to comply with existing code.\n",
        "        #display(force_vec)\n",
        "        \n",
        "        #Mean Absolute Error\n",
        "        MAE_list = []\n",
        "        for i,j in zip(preds, ytest):\n",
        "            error = np.abs(i-j)\n",
        "            MAE_list.append(error)\n",
        "        MAE = float(\"{:.3f}\".format(np.mean(MAE_list)))\n",
        "        #print(\"MAE\",\"{:.3f}\".format(MAE),'N')\n",
        "\n",
        "        # Coefficient of Variance\n",
        "        mean = np.mean(data.iloc[:,-1]) # mean of all dependent variables.\n",
        "        cov_list = []\n",
        "        for i,j in zip(preds, ytest):\n",
        "            sq_dev = (i-j)**2\n",
        "            cov_list.append(sq_dev)    \n",
        "        MSD = np.mean(cov_list) # mean square deviation\n",
        "        RMSD = np.sqrt(MSD) # root mean square deviation\n",
        "        cov = RMSD/mean # coefficient of variance\n",
        "        RMSD = float(\"{:.3f}\".format(RMSD))\n",
        "        cov =  float(\"{:.3f}\".format(cov))\n",
        "        #print(\"COV:\",\"{:.3f}\".format(cov))\n",
        "        \n",
        "    \n",
        "        my_dict = {'Trajectory':traj,\n",
        "                'MAE': MAE, \n",
        "                'RMSD':RMSD,\n",
        "                'cov': cov, # Used to normalise the RMSD accross all the data\n",
        "        }\n",
        "        stats_list.append(my_dict)\n",
        "\n",
        "        # Plot forces\n",
        "        fig, axes = plt.subplots(nrows=1, ncols=2, figsize=(10, 6))\n",
        "\n",
        "        predicted_cases = preds\n",
        "        true_cases = ytest\n",
        "        # Add title and axis names\n",
        "        \n",
        "        \n",
        "        from numpy.polynomial import Polynomial\n",
        "        x = [i for i in range(get_traj_length())]\n",
        "        y1 = predicted_cases\n",
        "        p1 = Polynomial.fit(x, y1, 50)\n",
        "        #plt.plot(*p1.linspace())\n",
        "\n",
        "        #x = [i for i in range(250)]\n",
        "        y2 = true_cases\n",
        "        p2 = Polynomial.fit(x, y2, 50)\n",
        "\n",
        "        #plt.plot(*p2.linspace())\n",
        "        axes[0].plot(true_cases, color=lighten_color('b', 1.7), linewidth=3.0, label='True Force');\n",
        "        axes[0].plot(predicted_cases, color=lighten_color('r', 1.0), linewidth=1.0, label='Predicted Force');\n",
        "        axes[0].legend(loc=2, prop={'size': 12})\n",
        "        axes[0].set_title(f'Force Trajectory {traj}');\n",
        "        axes[0].set_xlabel('Sample num');\n",
        "        axes[0].set_ylabel('Force (N)');\n",
        "        axes[0].grid(True);\n",
        "        axes[0].axis(ymin=0, ymax=110);\n",
        "\n",
        "        #ymax = round(max(y2), 2)\n",
        "        #x = list(np.linspace(0,249, num=1000))\n",
        "        #xpos = x.index(ymax)\n",
        "        #xmax = x[xpos]\n",
        "\n",
        "        xmax = np.argmax(y2)\n",
        "        ymax = y2.max()\n",
        "        axes[0].annotate(f'Max True Force:\\n {ymax:.2f}', xy=(xmax, ymax), xytext=(xmax-10, ymax+20),\n",
        "            arrowprops = dict(  arrowstyle=\"->\",\n",
        "                        connectionstyle=\"angle3,angleA=0,angleB=-90\"));\n",
        "        xmax = np.argmax(y1)\n",
        "        ymax = y1.max()\n",
        "        axes[0].annotate(f'Max Predicted Force:\\n {ymax:.2f}', xy=(xmax, ymax), xytext=(xmax+5, ymax+5),\n",
        "            arrowprops = dict(  arrowstyle=\"->\",\n",
        "                        connectionstyle=\"angle3,angleA=0,angleB=-90\"));\n",
        "\n",
        "        ## create trajectory plot to save next to force plot.\n",
        "        \n",
        "        ## Realised that this code is not needed. Just plot everything in the robot's base frame!!!!\n",
        "        # def base_to_task(batch):\n",
        "        #     \"\"\"\n",
        "        #     Rotate a point counterclockwise by a given theta around a given origin.\n",
        "        #     The theta should be given in radians.\n",
        "        #     \"\"\"\n",
        "        #     #batch_numpy = batch.to_numpy()\n",
        "        #     new_batch = []\n",
        "            \n",
        "        #     for row in batch:\n",
        "                \n",
        "        #         #print(batch)\n",
        "        #         x = row[0] ## these were floats\n",
        "        #         y = row[1]\n",
        "        #         x+=\t 0.28479# single 45 deg traj 0.42657\t#original/old lab setup 0.05  #  make the offset first then rotate.\n",
        "        #         y+=\t 0.6536# -------------------0.54586\t#original/------------  0.463\n",
        "        #         theta = -0.0036# tried this one for obstales, didn't work!= -1.356  # original- seemed ok if EE faces same direction relative to robot.-0.215 # rotating clockwise from task to base frame.\n",
        "        #         origin = 0,0\n",
        "        #         point = x, y\n",
        "        #         ox, oy = origin\n",
        "        #         px, py = point\n",
        "        #         qx = ox + np.cos(theta) * (px - ox) - np.sin(theta) * (py - oy)\n",
        "        #         qy = oy + np.sin(theta) * (px - ox) + np.cos(theta) * (py - oy)\n",
        "\n",
        "        #         new_batch.append([qx, qy])\n",
        "                \n",
        "        #     return np.array(new_batch)\n",
        "\n",
        "        batch = test_batches[traj]\n",
        "        trajectory = batch[['a', 'b']].to_numpy()## Hx and Hy are orifice position relative to the fixed zero position in the state space, not the robot's base frame. \n",
        "        #trajectory = base_to_task(new_batch)\n",
        "        x = trajectory[:,0]\n",
        "        y = trajectory[:,1]\n",
        "\n",
        "        axes[1].set_title(f'Robot Trajectory {traj}');\n",
        "        axes[1].set_xlabel('x(m)');\n",
        "        axes[1].set_ylabel('y(m)');\n",
        "        axes[1].grid(True);\n",
        "        #axes[1].axis(xmin=-0.1,xmax=1.2);\n",
        "        #axes[1].axis(ymin=-0.3,ymax=0.6);\n",
        "        axes[1].annotate('Start', (x[0], y[0]), xytext=(x[0]+0.0, y[0]-0.2),arrowprops = dict(  arrowstyle=\"->\",\n",
        "                        connectionstyle=\"angle3,angleA=0,angleB=-90\"));\n",
        "        axes[1].annotate('End', (x[-1], y[-1]), xytext=(x[-1]+0.02, y[-1]-0.2),arrowprops = dict(  arrowstyle=\"->\",\n",
        "                        connectionstyle=\"angle3,angleA=0,angleB=-90\"));\n",
        "        axes[1].scatter(x, y, s=5); ## Scatter trajectory points\n",
        "\n",
        "        Hx, Hy = [-0.33651, -0.60491]#trajectory[0,2], trajectory[0,3]\n",
        "        axes[1].scatter(Hx, Hy, s=400, marker=\"s\"); ## Orifice Marker\n",
        "        axes[1].scatter(Hx, Hy, s=300, marker=\"o\", c=\"k\"); ## Orifice Marker\n",
        "        axes[1].annotate(f'Orifice', (Hx, Hy), xytext=(Hx-0.1, Hy+0.05),arrowprops = dict(  arrowstyle=\"->\",\n",
        "                        connectionstyle=\"angle3,angleA=0,angleB=-90\"));\n",
        "\n",
        "        try:\n",
        "            #bob = batch[['O1x']].to_numpy()\n",
        "            #if bob[0] == True:\n",
        "            ## Obstacles\n",
        "            first_obstacle = batch[['O1x', 'O1y']].to_numpy()\n",
        "            #batch = #2nd obs [[0.00502, -0.57675]]  #1st obs [[-0.01049, -0.6805]]\n",
        "            x1, y1 = first_obstacle[0,0],first_obstacle[0,1] #base_to_task(first_obstacle).flatten()\n",
        "            axes[1].scatter(x1, y1, s=400, marker=\"s\");\n",
        "            axes[1].annotate(f'Obstacle 1', (x1, y1), xytext=(x1-0.1, y1+0.05),arrowprops = dict(  arrowstyle=\"->\",\n",
        "                            connectionstyle=\"angle3,angleA=0,angleB=-90\"));\n",
        "            \n",
        "            second_obstacle = batch[[ 'O2x', 'O2y']].to_numpy()\n",
        "            x2, y2 =  second_obstacle[0,0], second_obstacle[0,1]\n",
        "            #batch = #2nd obs [[0.19216, -0.57189]]  #[[0.18461, -0.55451]]\n",
        "            #x2, y2 = base_to_task(second_obstacle).flatten()\n",
        "            axes[1].scatter(x2,y2, s=400, marker=\"s\");\n",
        "            axes[1].annotate(f'Obstacle 2', (x2, y2), xytext=(x2-0.05, y2-0.05), arrowprops = dict(  arrowstyle=\"->\",\n",
        "                            connectionstyle=\"angle3,angleA=0,angleB=-90\"));\n",
        "        except:\n",
        "            pass\n",
        "        \n",
        "\n",
        "        #batch = [[0.60914, -0.54181]]\n",
        "        x3, y3 = [0.26521, -0.66617]#[0.60914, -0.54181] #base_to_task(batch).flatten()\n",
        "        axes[1].scatter(x3,y3, s=200, marker=\"X\");\n",
        "        axes[1].annotate('Goal', (x3, y3), xytext=(x3+0.14, y3+0.1), arrowprops = dict(  arrowstyle=\"->\",\n",
        "                        connectionstyle=\"angle3,angleA=0,angleB=-90\"));\n",
        "        \n",
        "\n",
        "        plt.figure(dpi=1200);\n",
        "        fig.tight_layout();\n",
        "\n",
        "\n",
        "        # save the current figure\n",
        "        pdf.savefig(fig);\n",
        "        # destroy the current figure\n",
        "        plt.clf()\n",
        "\n",
        "    pdf.close()\n",
        "    stats_list = pd.DataFrame(stats_list)\n",
        "    return stats_list\n",
        "\n",
        "###############################################################################\n",
        "\n",
        "def stats(stats_list2, model_name):\n",
        "    \n",
        " \n",
        "    ## Get the mean of MAE, RMSD and cov.\n",
        "    mean_list = {\n",
        "                'MAE' :float(\"{:.3f}\".format(np.mean(stats_list2['MAE']))),\n",
        "                'RMSD':float(\"{:.3f}\".format(np.mean(stats_list2['RMSD']))),\n",
        "                'cov' :float(\"{:.3f}\".format(np.mean(stats_list2['cov'])))\n",
        "    }\n",
        "    ## Get the std-dev of MAE, RMSD and cov.\n",
        "    std_dev = {\n",
        "                'MAE' :float(\"{:.3f}\".format(np.std(stats_list2['MAE']))),\n",
        "                'RMSD':float(\"{:.3f}\".format(np.std(stats_list2['RMSD']))),\n",
        "                'cov' :float(\"{:.3f}\".format(np.std(stats_list2['cov'])))\n",
        "    }\n",
        "    ## Get the max value of MAE, RMSD and cov.\n",
        "    max_list = {\n",
        "                'MAE' :float(stats_list2['MAE'].max()),\n",
        "                'RMSD':float(stats_list2['RMSD'].max()),\n",
        "                'cov' :float(stats_list2['cov'].max())\n",
        "    }\n",
        "    ## append above dicts to stats_list2.\n",
        "    stats_list2 = stats_list2.append(mean_list, ignore_index=True).fillna('Grand Mean')\n",
        "    stats_list2 = stats_list2.append(std_dev, ignore_index=True).fillna('Standard Dev')\n",
        "    stats_list2 = stats_list2.append(max_list, ignore_index=True).fillna('Max Value')\n",
        "\n",
        "    #display(stats_list2)\n",
        "    path = get_path()\n",
        "    \n",
        "    ## Create new directory in perent directory\n",
        "    path = path + f\"{model_name}/\"\n",
        "    model_name = model_name\n",
        "\n",
        "    ## save stats_list as .csv in same directory as trajectory plots.\n",
        "    stats_list2.to_csv(path + f\"lstm_model_metrics_{model_name}.csv\", index=False)\n",
        "    return stats_list2\n",
        "\n",
        "###############################################################################\n",
        "\n",
        "## Get a Gaussian Distribution of the MAE, RMSD and cov.\n",
        "def gauss_plot(stats_list2, name, error_type, num):\n",
        "    \n",
        "    model_name = name\n",
        "    model_dir = model_directory()\n",
        "    path = get_path()\n",
        "    path = path + f\"{model_name}/\"\n",
        "\n",
        "    error = error_type ## Either; MAE, RMSD or cov.\n",
        "    pdf = PdfPages(path + f\"gauss_pic_{error}.pdf\")\n",
        "    fig = plt.figure()\n",
        "    \n",
        "    # define constants\n",
        "    mu = np.mean(stats_list2.iloc[:-3,num]) \n",
        "    sigma = np.sqrt(np.var(stats_list2.iloc[:-3,num]))\n",
        "    x1 = np.min(stats_list2.iloc[:-3,num])\n",
        "    x2 = np.max(stats_list2.iloc[:-3,num])\n",
        "    \n",
        "\n",
        "    # calculate the z-transform\n",
        "    z1 = ( x1 - mu ) / sigma\n",
        "    z2 = ( x2 - mu ) / sigma\n",
        "\n",
        "    x = np.arange(z1, z2, 0.001) # range of x in spec\n",
        "    x_all = np.arange(-10, 10, 0.001) # entire range of x, both in and out of spec\n",
        "    # mean = 0, stddev = 1, since Z-transform was calculated\n",
        "    y = norm.pdf(x,0,1);\n",
        "    y2 = norm.pdf(x_all,0,1);\n",
        "\n",
        "    # build the plot\n",
        "    fig, ax = plt.subplots(figsize=(9,6));\n",
        "    #plt.style.use('fivethirtyeight');\n",
        "    ax.plot(x_all,y2);\n",
        "\n",
        "    ax.fill_between(x,y,0, alpha=0.3, color='b');\n",
        "    ax.fill_between(x_all,y2,0, alpha=0.1);\n",
        "    ax.set_xlim([-4,4]);\n",
        "    ax.set_xlabel('# of Standard Deviations Outside the Mean');\n",
        "    ax.set_yticklabels([]);\n",
        "    ax.set_title(f'{model_name} {error} Std Dev');\n",
        "\n",
        "    plt.savefig('normal_curve.png', dpi=72, bbox_inches='tight');\n",
        "    plt.grid(True);\n",
        "    plt.tight_layout();\n",
        "    #plt.show()\n",
        "    # save the current figure\n",
        "    pdf.savefig(fig);\n",
        "    ## destroy the current figure\n",
        "    plt.clf()\n",
        "\n",
        "    # close the object\n",
        "    pdf.close()\n",
        "\n",
        "###############################################################################\n",
        "\n",
        "## Get a PDF of the MAE, RMSD and cov.\n",
        "def prob_dist(stats_list2, name, error_type, num):    \n",
        "    model_name = name\n",
        "    model_dir = model_directory()\n",
        "    path = get_path()\n",
        "    path = path + f\"{model_name}/\"\n",
        "\n",
        "\n",
        "    error = error_type\n",
        "    pdf = PdfPages(path + f\"prob_dist_pic_{error}.pdf\")\n",
        "    fig = plt.figure()\n",
        "\n",
        "    import seaborn as sns\n",
        "    sns.distplot(stats_list2.iloc[:-3,num], color=\"darkslategrey\");\n",
        "    plt.xlabel(\"Force [newtons]\", labelpad=14);\n",
        "    plt.ylabel(\"Probability of Occurence\", labelpad=14);\n",
        "    plt.title(f\"Probability Distribution of {error}\", fontsize=20);\n",
        "    plt.grid(True);\n",
        "    plt.tight_layout();\n",
        "\n",
        "    #plt.show()\n",
        "    # save the current figure\n",
        "    pdf.savefig(fig);\n",
        "    # destroy the current figure\n",
        "    plt.clf()\n",
        "    plt.close('all') ## added this due to runtime warning, more than 20 figs open\n",
        "    # close the object\n",
        "    pdf.close()\n"
      ],
      "execution_count": 6,
      "outputs": []
    },
    {
      "cell_type": "code",
      "metadata": {
        "id": "3eDdNu0TNANH"
      },
      "source": [
        "\n",
        "\n",
        "# def func(i):\n",
        "#     for row in i:\n",
        "#         a = i[0]\n",
        "#         b = i[1]\n",
        "#         c = a+b\n",
        "#     return c,c\n",
        "# batch = [2.,4.]\n",
        "\n",
        "# x,y = func(batch)\n",
        "# print(x,y)\n",
        "\n",
        "# def base_to_task(batch):\n",
        "    \n",
        "#     for row in batch:\n",
        "        \n",
        "#         print(batch)\n",
        "#         x = row[0] \n",
        "#         y = row[1]\n",
        "#         x+=\t-28479\n",
        "#         y+=\t6536\n",
        "#     return x,y\n",
        "            \n",
        "# batch = [[-0.01049, -0.6805]]\n",
        "# x, y = base_to_task(batch)\n",
        "# print(x,y)"
      ],
      "execution_count": 7,
      "outputs": []
    },
    {
      "cell_type": "markdown",
      "metadata": {
        "id": "hv8OMkT7zvAe"
      },
      "source": [
        "# Test Controller\n",
        "This block automates the execution of the testing code above by first calling tests() which generates the testing trajectory plots, but also calculates the MAE, RMSD and COV for each trajectory. The product of which is saved as a dictionary and returned.\n"
      ]
    },
    {
      "cell_type": "code",
      "metadata": {
        "id": "A2BXoG-jlHcb"
      },
      "source": [
        "def test_runner(name):   \n",
        "    stats_df = tests(name) # Run tests on testing data and save generated plots to Google Drive\n",
        "    stats(stats_df, name) # Record stats and save to Google Drive\n",
        "    for i in range(1,4): # 1 to 3 = the colunms in the stats_list DataFrame\n",
        "        if i ==1:\n",
        "            error_type = 'MAE' # mean absolur error\n",
        "        elif i == 2:\n",
        "            error_type = 'RMSE' # root mean squared error\n",
        "        elif i == 3:\n",
        "            error_type = 'cov' # coefficient of variance\n",
        "\n",
        "        prob_dist(stats_df, name, error_type, i) # Gen prob_dist and save to GD\n",
        "        \n",
        "        gauss_plot(stats_df, name, error_type, i) # Gen Gauss plots and save to GD\n",
        "    print(\"Done\")"
      ],
      "execution_count": 8,
      "outputs": []
    },
    {
      "cell_type": "markdown",
      "metadata": {
        "id": "KLUhALEgroxu"
      },
      "source": [
        "# LSTM Network\n",
        "---\n",
        "The network consists of two LSTM layers with sixty nodes each, plus one fully connected output layer; however, these hyper-parameters can be adjusted in the hyper-parameter section above. The network is able to automatically adjust the number of LSTM layers, nodes and fully connected layers between one and three when stipulated in the hyper-parameter block. \n",
        "<br>\n",
        "The reason for having adjustable fully connected layers here was because it was fount that the network could sometimes produce better models with more layers depending on the input data; however, the nature of the data has changed significantly since the start of this project, but it is still interesting to compare the performance when increasing the network complxity. \n",
        "<br>\n",
        "A lot of experiments were carried out on all the available activation functions in PyTorch and 'Leaky relu' was found to perform the best for this task.\n",
        "\n",
        "---"
      ]
    },
    {
      "cell_type": "code",
      "metadata": {
        "id": "tSq64dXK-zO5"
      },
      "source": [
        "class ForcePredictor(nn.Module):\n",
        "\n",
        "    def __init__(self, n_features, n_hidden, seq_len, n_layers=2, ignore_zero=True):\n",
        "        super(ForcePredictor, self).__init__()\n",
        "        dropout = get_dropout()\n",
        "\n",
        "        if torch.cuda.is_available():\n",
        "            device = torch.device(\"cuda:0\")\n",
        "            print(\"Running on the GPU\")\n",
        "        else:\n",
        "            device = torch.device(\"cpu\")\n",
        "            print(\"Running on CPU\")\n",
        "\n",
        "        self.n_hidden = n_hidden\n",
        "        self.seq_len = seq_len\n",
        "        self.n_layers = n_layers\n",
        "\n",
        "        self.lstm = nn.LSTM(\n",
        "          input_size=n_features,\n",
        "          hidden_size=n_hidden,\n",
        "          num_layers=n_layers,\n",
        "          dropout= dropout)\n",
        "        \n",
        "        fc = get_fc() ## get num of FC layers\n",
        "\n",
        "\n",
        "        if fc == 1:\n",
        "            self.linear1 = nn.Linear(in_features=n_hidden, out_features=3)\n",
        "            \n",
        "        elif fc == 2:\n",
        "            self.linear1 = nn.Linear(in_features=n_hidden, out_features=128)\n",
        "            self.linear2 = nn.Linear(in_features=128, out_features=3)\n",
        "\n",
        "        elif fc == 3:\n",
        "            self.linear1 = nn.Linear(in_features=n_hidden, out_features=60)\n",
        "            self.linear2 = nn.Linear(in_features=60, out_features=60)\n",
        "            self.linear3 = nn.Linear(in_features=60, out_features=3)\n",
        "        \n",
        "    def reset_hidden_state(self):\n",
        "        self.hidden = (\n",
        "            torch.zeros(self.n_layers, self.seq_len, self.n_hidden).to(device),\n",
        "            torch.zeros(self.n_layers, self.seq_len, self.n_hidden).to(device)\n",
        "        )\n",
        "\n",
        "    ## Forward Function.\n",
        "    \n",
        "    def forward(self, sequences):\n",
        "\n",
        "        '''                    ## Forward Method ##\n",
        "        -----------------------------------------------------------------------\n",
        "        This Method takes the input and passes it through each of the network \n",
        "        layers.\n",
        "        ----------------------------------------------------------------------- \n",
        "        '''\n",
        "        \n",
        "        lstm_out, self.hidden = self.lstm(sequences.view(len(sequences), self.seq_len, -1),self.hidden)\n",
        "        last_time_step = lstm_out.view(self.seq_len, len(sequences), self.n_hidden)[-1]\n",
        "\n",
        "        y_pred = self.linear1(last_time_step)\n",
        "        #y_pred = self.linear2(y_pred)\n",
        "       \n",
        "        #hidden = self.hidden\n",
        "        return y_pred#, hidden"
      ],
      "execution_count": 9,
      "outputs": []
    },
    {
      "cell_type": "markdown",
      "metadata": {
        "id": "z4OcSy1rHxJv"
      },
      "source": [
        "# Docstring Tester\n",
        "---\n",
        "This is just a little tester block to make sure the docstrings throughout the code are working as expected.\n",
        "\n",
        "---"
      ]
    },
    {
      "cell_type": "code",
      "metadata": {
        "id": "aWjyr6PyEnHK",
        "colab": {
          "base_uri": "https://localhost:8080/"
        },
        "outputId": "c92242a7-1f4e-411e-86c8-d5c1affc2521"
      },
      "source": [
        "my_object = ForcePredictor(_,_,_)\n",
        "print(my_object.forward.__doc__)"
      ],
      "execution_count": 10,
      "outputs": [
        {
          "output_type": "stream",
          "text": [
            "Running on the GPU\n",
            "                    ## Forward Method ##\n",
            "        -----------------------------------------------------------------------\n",
            "        This Method takes the input and passes it through each of the network \n",
            "        layers.\n",
            "        ----------------------------------------------------------------------- \n",
            "        \n"
          ],
          "name": "stdout"
        }
      ]
    },
    {
      "cell_type": "markdown",
      "metadata": {
        "id": "IWusdxYDEmEk"
      },
      "source": [
        "# Training Loop\n",
        "---\n",
        "This is where the magic happens!\n"
      ]
    },
    {
      "cell_type": "code",
      "metadata": {
        "id": "894bcCIs-zPj"
      },
      "source": [
        "def train_model(model):\n",
        "    torch.manual_seed(42)\n",
        "    path = get_path()\n",
        "    '''                   ## training Loop ##\n",
        "    ---------------------------------------------------------------------------\n",
        "\n",
        "    ---------------------------------------------------------------------------\n",
        "    '''\n",
        "    lr = get_lr()\n",
        "    loss_fn = torch.nn.MSELoss(reduction='mean')\n",
        "    device = torch.device(\"cuda:0\")\n",
        "    loss_fn = loss_fn.to(device)\n",
        "    optimizer = torch.optim.Adam(model.parameters(), lr=lr)#0.0007 \n",
        "    print(\"learning rate =\", lr) \n",
        "    num_epochs = get_epochs() #1600 #600\n",
        "    path = get_path()\n",
        "    seq_length = get_seq_length()\n",
        "\n",
        "    #--------------------------------------------------------------------------\n",
        "    '''                   ## Get Model Parameters ##\n",
        "    ---------------------------------------------------------------------------\n",
        "    If you want to restart training from an earlier model, first - it should be\n",
        "    stipulated in the hyper-parameter setting at the beginning of the notebook\n",
        "    by setting 'warm_start' = true, and adding the path to the saved model \n",
        "    location.\n",
        "\n",
        "\n",
        "    '''\n",
        "    start_epoch = 0\n",
        "    warm_start = get_warm_start()\n",
        "    if warm_start == True:      \n",
        "        params = load_params() # model num and version num: 4_v100.\n",
        "        PATH = path + f\"/model_params{params}.pt\"     \n",
        "        checkpoint = torch.load(PATH)\n",
        "        model.load_state_dict(checkpoint['model_state_dict'])\n",
        "        optimizer.load_state_dict(checkpoint['optimizer_state_dict'])\n",
        "        for state in optimizer.state.values():\n",
        "            for k, v in state.items():\n",
        "                if isinstance(v, torch.Tensor):\n",
        "                    state[k] = v.cuda()\n",
        "        start_epoch = checkpoint['epoch']\n",
        "        loss_fn = checkpoint['loss']\n",
        "        loss_fn = loss_fn.to(device)\n",
        "\n",
        "    model = model.to(device)\n",
        "\n",
        "    print(model)\n",
        "    print(\"Starting Weights\", model.linear1.weight.data) # Check weights are being updated.\n",
        "    start_weights = model.linear1.weight.data.clone()\n",
        "\n",
        "    ## create new lists to save the losses over the whole training phase.\n",
        "    tot_losses = []\n",
        "    tot_test_losses = []\n",
        "\n",
        "    ## Set time with which to reference elapsed time.\n",
        "    s1 = time.strftime('%H:%M:%S')\n",
        "\n",
        "    '''                   ## Start of Training Loop\n",
        "    ---------------------------------------------------------------------------\n",
        "    start_epoch = 0 unless using pre-trained model.\n",
        "    num_epochs is stipulated in model hyper-parameter settings.\n",
        "    \n",
        "    '''\n",
        "\n",
        "    for t in range(start_epoch, num_epochs):\n",
        "\n",
        "        tot_traj_losses = [] ## empty total trajectory losses list\n",
        "        tot_traj_test_losses = []    \n",
        "\n",
        "        for j in range(len(batches)): #-----------------------------------------## for each traj in training data.\n",
        "            if t % 5 != 0: \n",
        "                ## Get current epoch, batch num and elasped time.\n",
        "                s2 = time.strftime('%H:%M:%S')\n",
        "                FMT = '%H:%M:%S'\n",
        "                tdelta = datetime.strptime(s2, FMT) - datetime.strptime(s1, FMT)\n",
        "                print(\"\\r\", f\"Epoch:{t} Traj:{j}\",\n",
        "                      \" Time Elapsed:\", tdelta, end=\"\") #-----------------------## print epoch & batch for a visual reference during training. \n",
        "                if j == 160:\n",
        "                    print()\n",
        "            model.reset_hidden_state() #----------------------------------------## reset hidden state for the start of each trajectory\n",
        "            losses = [] #-------------------------------------------------------## reset sum of losses for each trajectoy. \n",
        "\n",
        "            ''' Fetch n samples from each trajectory to train on before updatining network.'''\n",
        "            for start_seq in range(int(get_traj_length()/seq_length)): #---------------------## 1000 samples divided by seq length returns num slices.\n",
        "                train_data, train_labels, _, _ = get_batches(j, start_seq*seq_length) ## dataloader- featch each slice of the traj at a time.\n",
        "                torch.autograd.set_detect_anomaly(True)\n",
        "                model.reset_hidden_state() #----------------------------------------## reset hidden state for the start of each trajectory\n",
        "\n",
        "                optimizer.zero_grad() #----------------------------------------## moved zerograd to start of each trajectory. ### having zero_grad here produces strange peaks at start of trajectory\n",
        "                y_pred = model(train_data) #------------------------------------## make prediction on a slice/batch.\n",
        "                loss = loss_fn(y_pred.float(), train_labels) #------------------## loss for each slice/batch.\n",
        "                losses.append(loss.item()) #------------------------------------## append for all slices/batches == 1 trajectory.\n",
        "                loss.backward(retain_graph=True) #-----------------------------------------------## Calculate the gradients of the loss wrt the network weights.\n",
        "                optimizer.step() #----------------------------------------------## Update network weights.\n",
        "            traj_loss = np.mean(losses) #---------------------------------------## average loss over each trajectory\n",
        "            \n",
        "\n",
        "            model.reset_hidden_state() #----------------------------------------# Seperate training and testing hidden states. \n",
        "            test_losses = []\n",
        "            for start_seq in range(int(get_traj_length()/seq_length)): \n",
        "\n",
        "                #start_seqx = start_seq*seq_length ## get the next sequence start position\n",
        "                _, _, test_data, test_labels = get_batches(j, start_seq*seq_length)\n",
        "                with torch.no_grad():\n",
        "                    y_test_pred = model(test_data)\n",
        "                    test_loss = loss_fn(y_test_pred.float(), test_labels) ## loss for each test trajectory slice.\n",
        "                test_losses.append(test_loss.item()) ## append loss for each trajectory slice.\n",
        "            traj_test_loss = np.mean(test_losses) ## average test loss over each tarjectory of n samples\n",
        "\n",
        "            '''MSE Loss reporting. Uncomment to see printout of loss during training.\n",
        "            '''\n",
        "                ## The loss will look small (<1) but that's because we are not de-scaling the output. \n",
        "            if t % 5 == 0:\n",
        "                 \n",
        "                s2 = time.strftime('%H:%M:%S')\n",
        "                FMT = '%H:%M:%S'\n",
        "                tdelta = datetime.strptime(s2, FMT) - datetime.strptime(s1, FMT)\n",
        "                print(f'Epoch: {t} Traj:{j}', 'Time Elapsed:', tdelta,  f'train loss: {traj_loss} test loss: {traj_test_loss}') ## display losses for each trajectory every 10 epochs.\n",
        "\n",
        "            '''\n",
        "            Traj_loss is the mean of the loss over a single trajectory. \n",
        "            Here we append these mean losses to a list of mean losses for the whole epoch.\n",
        "            '''   \n",
        "            tot_traj_losses.append(traj_loss) ## save each trajectory loss over each epoch.\n",
        "            tot_traj_test_losses.append(traj_test_loss) \n",
        "\n",
        "        ## Periodically save model and show training and testing loss\n",
        "        if t % 1 == 0:\n",
        "            print('\\n Saving model', '\\n')\n",
        "\n",
        "            save_path = path + \"params_folder\"\n",
        "            try:\n",
        "                os.makedirs(save_path)\n",
        "            except OSError:\n",
        "                print (f\"Creation of the directory {save_path} failed\" )\n",
        "            else:\n",
        "                print (f\"Successfully created the directory {save_path}\" )\n",
        "\n",
        "\n",
        "            model_num = model_number()\n",
        "            model_save_name = f'/model_params{model_num}_v{t}.pt'\n",
        "            torch.save({\n",
        "                'epoch': num_epochs,\n",
        "                'model_state_dict': model.state_dict(),\n",
        "                'optimizer_state_dict': optimizer.state_dict(),\n",
        "                'loss':loss,},\n",
        "                save_path + f\"{model_save_name}\" \n",
        "            )\n",
        "            print(\"Save path =\", save_path + f\"{model_save_name}\")\n",
        "\n",
        "\n",
        "            mean_loss = np.mean(tot_traj_losses) ## get the mean of the traj losses for each epoch.\n",
        "            mean_test_loss = np.mean(tot_traj_test_losses)\n",
        "            print(\"\\n Average Loss\")\n",
        "            print(mean_loss)\n",
        "            print(\"\\n Average Test Loss\")\n",
        "            print(mean_test_loss,'\\n')\n",
        "            diff = mean_test_loss - mean_loss\n",
        "            print(\"Difference Between Training and Testing Losses\")\n",
        "            print(diff.item(),'\\n')\n",
        "            tot_losses.append(mean_loss)\n",
        "            tot_test_losses.append(mean_test_loss)\n",
        "        \n",
        "\n",
        "            name = f'model{model_num}_v{t}'\n",
        "            test_runner(name)\n",
        "            model.train() ## just in case it was left in .eval() mode.\n",
        "\n",
        "            model_dir = model_directory()\n",
        "\n",
        "            pdf = PdfPages(path + \"/loss.pdf\")\n",
        "            fig = plt.figure();\n",
        "\n",
        "            '''\n",
        "            Plot the mean training and testing losses over each epoch.\n",
        "            '''\n",
        "            if t !=0:\n",
        "                min_loss = round(min(tot_losses),3), ' @ epoch: ', np.argmin(tot_losses)\n",
        "                min_test_loss = round(min(tot_test_losses),3), ' @ epoch: ', np.argmin(tot_test_losses)\n",
        "\n",
        "                plt.plot(tot_losses, label=f'Training Loss: Min Value={min_loss[0]}{min_loss[1]}{min_loss[2]}'); \n",
        "                plt.plot(tot_test_losses, label=f'Testing Loss: Min Value={min_test_loss[0]}{min_test_loss[1]}{min_test_loss[2]}'); \n",
        "                plt.xlabel(\"Epochs\", labelpad=14);\n",
        "                plt.ylabel(\"MSE Loss\", labelpad=14);\n",
        "                plt.title(f\"Training and Testing Losses {model_dir}\", fontsize=20);\n",
        "                #tick_labels = [i for i in range(100)]\n",
        "                plt.xticks(np.arange(0,101, 10));\n",
        "                plt.grid(True);\n",
        "                plt.tight_layout();\n",
        "                plt.legend();\n",
        "\n",
        "                # save the current figure\n",
        "                pdf.savefig(fig);\n",
        "\n",
        "                figure(num=None, figsize=(8, 6), dpi=80, facecolor='w', edgecolor='k')\n",
        "                plt.show()\n",
        "                plt.pause(0.01)\n",
        "\n",
        "                # destroy the current figure\n",
        "                plt.clf()\n",
        "                # close the object\n",
        "                pdf.close()\n",
        "\n",
        "        losses = []\n",
        "        test_losses = []\n"
      ],
      "execution_count": 11,
      "outputs": []
    },
    {
      "cell_type": "markdown",
      "metadata": {
        "id": "W4nlT0C-9fUv"
      },
      "source": [
        "# Import Data\n",
        "---\n",
        "This section did automatically selects which dataset to download based on the feature number selection made at the start. \n",
        "<br>\n",
        "However, it was descovered that the model can in fact utilise two or more cleaned datasets, picking feature columns as necessary, assuming the datasets are of the same original raw data.\n",
        "<br>\n",
        "For example, The Cartesian feature model uses the X, Y, Z, Rx, ry and Rz features of the Cartesian dataset, together with the Fx, Fy and Fz target features of the joints dataset.\n",
        "<br>\n",
        "Of course, these datasets could be combined and a lot of processed datasets based on the original raw data have been created and added to the gitbub repositiory; however, i think it's interesting to see how different datasets can be combined.\n",
        "<br>\n",
        "4 features for the joint data and 6 features for the Cartesian data. \n",
        "\n",
        "---"
      ]
    },
    {
      "cell_type": "code",
      "metadata": {
        "id": "GtXzj7tF-zPw"
      },
      "source": [
        "## Get num\n",
        "feature_num = get_features()\n",
        "url = 'https://raw.githubusercontent.com/PorkPy/DLO_manipulation_LSTM/PorkPy-data_for_RL/all_data.csv'\n",
        "\n",
        "#url2 = 'https://raw.githubusercontent.com/PorkPy/LSTM-Force-Predictor/master/80k_data/4_joints_3_force_1_forceVec.csv'\n",
        "\n",
        "#url3 = 'https://raw.githubusercontent.com/PorkPy/LSTM-Force-Predictor/master/80k_data/mean_force_data.csv'\n",
        "\n",
        "\n",
        "data = pd.read_csv(url)\n",
        "\n",
        "#data2 = pd.read_csv(url2)\n",
        "#data3 = pd.read_csv(url3)\n",
        "main_seq = data"
      ],
      "execution_count": 12,
      "outputs": []
    },
    {
      "cell_type": "code",
      "metadata": {
        "id": "1kxcCa_7BP8B",
        "colab": {
          "base_uri": "https://localhost:8080/",
          "height": 381
        },
        "outputId": "9e6e6db2-403b-4273-ab9f-c3a5aabc1dc5"
      },
      "source": [
        "display(data.head())\n",
        "print(data.columns)\n",
        "print(len(data))"
      ],
      "execution_count": 13,
      "outputs": [
        {
          "output_type": "display_data",
          "data": {
            "text/html": [
              "<div>\n",
              "<style scoped>\n",
              "    .dataframe tbody tr th:only-of-type {\n",
              "        vertical-align: middle;\n",
              "    }\n",
              "\n",
              "    .dataframe tbody tr th {\n",
              "        vertical-align: top;\n",
              "    }\n",
              "\n",
              "    .dataframe thead th {\n",
              "        text-align: right;\n",
              "    }\n",
              "</style>\n",
              "<table border=\"1\" class=\"dataframe\">\n",
              "  <thead>\n",
              "    <tr style=\"text-align: right;\">\n",
              "      <th></th>\n",
              "      <th>rosbagTimestamp</th>\n",
              "      <th>Fx</th>\n",
              "      <th>Fy</th>\n",
              "      <th>Fz</th>\n",
              "      <th>Tx</th>\n",
              "      <th>Ty</th>\n",
              "      <th>Tz</th>\n",
              "      <th>joint_0</th>\n",
              "      <th>joint_1</th>\n",
              "      <th>joint_2</th>\n",
              "      <th>joint_3</th>\n",
              "      <th>joint_4</th>\n",
              "      <th>joint_5</th>\n",
              "      <th>vel_joint_0</th>\n",
              "      <th>vel_joint_1</th>\n",
              "      <th>vel_joint_2</th>\n",
              "      <th>vel_joint_3</th>\n",
              "      <th>vel_joint_4</th>\n",
              "      <th>vel_joint_5</th>\n",
              "      <th>effot_joint_0</th>\n",
              "      <th>effot_joint_1</th>\n",
              "      <th>effot_joint_2</th>\n",
              "      <th>effot_joint_3</th>\n",
              "      <th>effot_joint_4</th>\n",
              "      <th>effot_joint_5</th>\n",
              "      <th>Force Vec</th>\n",
              "      <th>Torque Vec</th>\n",
              "      <th>x</th>\n",
              "      <th>y</th>\n",
              "      <th>z</th>\n",
              "      <th>Rx</th>\n",
              "      <th>Ry</th>\n",
              "      <th>Rz</th>\n",
              "    </tr>\n",
              "  </thead>\n",
              "  <tbody>\n",
              "    <tr>\n",
              "      <th>0</th>\n",
              "      <td>1.607963e+09</td>\n",
              "      <td>0.789993</td>\n",
              "      <td>-0.830002</td>\n",
              "      <td>-0.080000</td>\n",
              "      <td>0.041</td>\n",
              "      <td>0.209000</td>\n",
              "      <td>0.051</td>\n",
              "      <td>0.888099</td>\n",
              "      <td>-0.920875</td>\n",
              "      <td>2.064452</td>\n",
              "      <td>-2.715451</td>\n",
              "      <td>4.710296</td>\n",
              "      <td>2.263148</td>\n",
              "      <td>0.000000</td>\n",
              "      <td>0.000000</td>\n",
              "      <td>-0.000000</td>\n",
              "      <td>0.000000</td>\n",
              "      <td>0.0</td>\n",
              "      <td>0.0000</td>\n",
              "      <td>-1.071167</td>\n",
              "      <td>-6.248475</td>\n",
              "      <td>-1.605136</td>\n",
              "      <td>-0.538330</td>\n",
              "      <td>0.251221</td>\n",
              "      <td>-0.029160</td>\n",
              "      <td>1.148648</td>\n",
              "      <td>0.219004</td>\n",
              "      <td>-0.329250</td>\n",
              "      <td>-0.664467</td>\n",
              "      <td>0.001595</td>\n",
              "      <td>3.141109</td>\n",
              "      <td>0.002303</td>\n",
              "      <td>0.195746</td>\n",
              "    </tr>\n",
              "    <tr>\n",
              "      <th>1</th>\n",
              "      <td>1.607963e+09</td>\n",
              "      <td>0.829987</td>\n",
              "      <td>-0.809998</td>\n",
              "      <td>-0.039999</td>\n",
              "      <td>0.038</td>\n",
              "      <td>0.212000</td>\n",
              "      <td>0.051</td>\n",
              "      <td>0.888087</td>\n",
              "      <td>-0.920923</td>\n",
              "      <td>2.064440</td>\n",
              "      <td>-2.715451</td>\n",
              "      <td>4.710308</td>\n",
              "      <td>2.263136</td>\n",
              "      <td>0.000000</td>\n",
              "      <td>0.000000</td>\n",
              "      <td>-0.000000</td>\n",
              "      <td>0.000000</td>\n",
              "      <td>0.0</td>\n",
              "      <td>0.0000</td>\n",
              "      <td>-1.107788</td>\n",
              "      <td>-6.188965</td>\n",
              "      <td>-1.605136</td>\n",
              "      <td>-0.520386</td>\n",
              "      <td>0.246735</td>\n",
              "      <td>-0.022430</td>\n",
              "      <td>1.160420</td>\n",
              "      <td>0.221335</td>\n",
              "      <td>-0.329265</td>\n",
              "      <td>-0.664474</td>\n",
              "      <td>0.001634</td>\n",
              "      <td>3.141162</td>\n",
              "      <td>0.002331</td>\n",
              "      <td>0.195746</td>\n",
              "    </tr>\n",
              "    <tr>\n",
              "      <th>2</th>\n",
              "      <td>1.607963e+09</td>\n",
              "      <td>0.829987</td>\n",
              "      <td>-0.840012</td>\n",
              "      <td>-0.049999</td>\n",
              "      <td>0.038</td>\n",
              "      <td>0.209000</td>\n",
              "      <td>0.052</td>\n",
              "      <td>0.888135</td>\n",
              "      <td>-0.920875</td>\n",
              "      <td>2.064488</td>\n",
              "      <td>-2.715451</td>\n",
              "      <td>4.710320</td>\n",
              "      <td>2.263124</td>\n",
              "      <td>0.000000</td>\n",
              "      <td>0.000000</td>\n",
              "      <td>-0.000000</td>\n",
              "      <td>0.000000</td>\n",
              "      <td>0.0</td>\n",
              "      <td>0.0000</td>\n",
              "      <td>-1.103211</td>\n",
              "      <td>-6.230164</td>\n",
              "      <td>-1.596169</td>\n",
              "      <td>-0.567490</td>\n",
              "      <td>0.246735</td>\n",
              "      <td>-0.031403</td>\n",
              "      <td>1.181946</td>\n",
              "      <td>0.218698</td>\n",
              "      <td>-0.329210</td>\n",
              "      <td>-0.664464</td>\n",
              "      <td>0.001582</td>\n",
              "      <td>3.141096</td>\n",
              "      <td>0.002262</td>\n",
              "      <td>0.195806</td>\n",
              "    </tr>\n",
              "    <tr>\n",
              "      <th>3</th>\n",
              "      <td>1.607963e+09</td>\n",
              "      <td>0.689987</td>\n",
              "      <td>-0.130005</td>\n",
              "      <td>-0.090000</td>\n",
              "      <td>-0.001</td>\n",
              "      <td>0.205999</td>\n",
              "      <td>0.051</td>\n",
              "      <td>0.888087</td>\n",
              "      <td>-0.920899</td>\n",
              "      <td>2.064476</td>\n",
              "      <td>-2.715487</td>\n",
              "      <td>4.710320</td>\n",
              "      <td>2.263148</td>\n",
              "      <td>0.000000</td>\n",
              "      <td>0.000000</td>\n",
              "      <td>-0.000000</td>\n",
              "      <td>0.000000</td>\n",
              "      <td>0.0</td>\n",
              "      <td>0.0000</td>\n",
              "      <td>-1.098633</td>\n",
              "      <td>-6.211854</td>\n",
              "      <td>-1.611862</td>\n",
              "      <td>-0.488983</td>\n",
              "      <td>0.246735</td>\n",
              "      <td>-0.017944</td>\n",
              "      <td>0.707873</td>\n",
              "      <td>0.212221</td>\n",
              "      <td>-0.329251</td>\n",
              "      <td>-0.664458</td>\n",
              "      <td>0.001608</td>\n",
              "      <td>3.141152</td>\n",
              "      <td>0.002307</td>\n",
              "      <td>0.195734</td>\n",
              "    </tr>\n",
              "    <tr>\n",
              "      <th>4</th>\n",
              "      <td>1.607963e+09</td>\n",
              "      <td>-0.050003</td>\n",
              "      <td>-3.100006</td>\n",
              "      <td>-0.719999</td>\n",
              "      <td>0.331</td>\n",
              "      <td>0.087000</td>\n",
              "      <td>0.018</td>\n",
              "      <td>0.889407</td>\n",
              "      <td>-0.920492</td>\n",
              "      <td>2.063720</td>\n",
              "      <td>-2.714433</td>\n",
              "      <td>4.710248</td>\n",
              "      <td>2.267565</td>\n",
              "      <td>0.013307</td>\n",
              "      <td>0.000639</td>\n",
              "      <td>0.004321</td>\n",
              "      <td>-0.000345</td>\n",
              "      <td>0.0</td>\n",
              "      <td>0.0423</td>\n",
              "      <td>0.924683</td>\n",
              "      <td>-5.314637</td>\n",
              "      <td>-1.925715</td>\n",
              "      <td>-0.554031</td>\n",
              "      <td>-0.013458</td>\n",
              "      <td>0.352158</td>\n",
              "      <td>3.182913</td>\n",
              "      <td>0.342716</td>\n",
              "      <td>-0.328578</td>\n",
              "      <td>-0.665133</td>\n",
              "      <td>0.001458</td>\n",
              "      <td>3.140562</td>\n",
              "      <td>0.001918</td>\n",
              "      <td>0.192636</td>\n",
              "    </tr>\n",
              "  </tbody>\n",
              "</table>\n",
              "</div>"
            ],
            "text/plain": [
              "   rosbagTimestamp        Fx        Fy  ...        Rx        Ry        Rz\n",
              "0     1.607963e+09  0.789993 -0.830002  ...  3.141109  0.002303  0.195746\n",
              "1     1.607963e+09  0.829987 -0.809998  ...  3.141162  0.002331  0.195746\n",
              "2     1.607963e+09  0.829987 -0.840012  ...  3.141096  0.002262  0.195806\n",
              "3     1.607963e+09  0.689987 -0.130005  ...  3.141152  0.002307  0.195734\n",
              "4     1.607963e+09 -0.050003 -3.100006  ...  3.140562  0.001918  0.192636\n",
              "\n",
              "[5 rows x 33 columns]"
            ]
          },
          "metadata": {
            "tags": []
          }
        },
        {
          "output_type": "stream",
          "text": [
            "Index(['rosbagTimestamp', 'Fx', 'Fy', 'Fz', 'Tx', 'Ty', 'Tz', 'joint_0',\n",
            "       'joint_1', 'joint_2', 'joint_3', 'joint_4', 'joint_5', 'vel_joint_0',\n",
            "       'vel_joint_1', 'vel_joint_2', 'vel_joint_3', 'vel_joint_4',\n",
            "       'vel_joint_5', 'effot_joint_0', 'effot_joint_1', 'effot_joint_2',\n",
            "       'effot_joint_3', 'effot_joint_4', 'effot_joint_5', 'Force Vec',\n",
            "       'Torque Vec', 'x', 'y', 'z', 'Rx', 'Ry', 'Rz'],\n",
            "      dtype='object')\n",
            "25000\n"
          ],
          "name": "stdout"
        }
      ]
    },
    {
      "cell_type": "markdown",
      "metadata": {
        "id": "I4lHYivtf_WY"
      },
      "source": [
        "# Data Selection and Scaling\n",
        "---\n",
        "This block selects the desired features and targets from the datasets above and scales each section. The features and targets are scaled individually so that the output from the model can be de-scaled easily. \n",
        "\n",
        "---"
      ]
    },
    {
      "cell_type": "code",
      "metadata": {
        "id": "I218Ofy0ip-l",
        "colab": {
          "base_uri": "https://localhost:8080/",
          "height": 644
        },
        "outputId": "308a3cc5-ff0d-412d-e0a7-32672af6b2e0"
      },
      "source": [
        "xy = data[['x', 'y']]\n",
        "#obs_pos = data[['Hx']]\n",
        "#obs_pos2 = data[['Hx','Hy', 'O1x', 'O1y', 'O2x', 'O2y']]\n",
        "\n",
        "features = data[['x', 'y', 'z', 'Rx', 'Ry', 'Rz']]\n",
        "feature_scaler = StandardScaler()\n",
        "features = feature_scaler.fit_transform(features)\n",
        "\n",
        "targets = data[['Fx', 'Fy', 'Fz']]\n",
        "target_scaler = StandardScaler()\n",
        "targets = target_scaler.fit_transform(targets)\n",
        "\n",
        "force_vec = pd.DataFrame(data[['Force Vec']])\n",
        "\n",
        "\n",
        "#obs_pos = pd.DataFrame(obs_pos)\n",
        "features = pd.DataFrame(features)\n",
        "targets = pd.DataFrame(targets)\n",
        "data = pd.concat([targets, features, force_vec, xy ], axis=1)\n",
        "data.columns = [['Fx','Fy','Fz','x','y','z','Rx','Ry','Rz','force vec','a','b']]\n",
        "display(data)\n",
        "print(data.columns)"
      ],
      "execution_count": 14,
      "outputs": [
        {
          "output_type": "display_data",
          "data": {
            "text/html": [
              "<div>\n",
              "<style scoped>\n",
              "    .dataframe tbody tr th:only-of-type {\n",
              "        vertical-align: middle;\n",
              "    }\n",
              "\n",
              "    .dataframe tbody tr th {\n",
              "        vertical-align: top;\n",
              "    }\n",
              "\n",
              "    .dataframe thead tr th {\n",
              "        text-align: left;\n",
              "    }\n",
              "</style>\n",
              "<table border=\"1\" class=\"dataframe\">\n",
              "  <thead>\n",
              "    <tr>\n",
              "      <th></th>\n",
              "      <th>Fx</th>\n",
              "      <th>Fy</th>\n",
              "      <th>Fz</th>\n",
              "      <th>x</th>\n",
              "      <th>y</th>\n",
              "      <th>z</th>\n",
              "      <th>Rx</th>\n",
              "      <th>Ry</th>\n",
              "      <th>Rz</th>\n",
              "      <th>force vec</th>\n",
              "      <th>a</th>\n",
              "      <th>b</th>\n",
              "    </tr>\n",
              "  </thead>\n",
              "  <tbody>\n",
              "    <tr>\n",
              "      <th>0</th>\n",
              "      <td>0.411985</td>\n",
              "      <td>0.579808</td>\n",
              "      <td>0.252419</td>\n",
              "      <td>-1.385208</td>\n",
              "      <td>0.960773</td>\n",
              "      <td>0.108507</td>\n",
              "      <td>0.537770</td>\n",
              "      <td>-0.633334</td>\n",
              "      <td>-1.345504</td>\n",
              "      <td>1.148648</td>\n",
              "      <td>-0.329250</td>\n",
              "      <td>-0.664467</td>\n",
              "    </tr>\n",
              "    <tr>\n",
              "      <th>1</th>\n",
              "      <td>0.426945</td>\n",
              "      <td>0.580859</td>\n",
              "      <td>0.262170</td>\n",
              "      <td>-1.385286</td>\n",
              "      <td>0.960719</td>\n",
              "      <td>0.120667</td>\n",
              "      <td>0.537790</td>\n",
              "      <td>-0.631847</td>\n",
              "      <td>-1.345504</td>\n",
              "      <td>1.160420</td>\n",
              "      <td>-0.329265</td>\n",
              "      <td>-0.664474</td>\n",
              "    </tr>\n",
              "    <tr>\n",
              "      <th>2</th>\n",
              "      <td>0.426945</td>\n",
              "      <td>0.579282</td>\n",
              "      <td>0.259732</td>\n",
              "      <td>-1.385012</td>\n",
              "      <td>0.960802</td>\n",
              "      <td>0.104539</td>\n",
              "      <td>0.537765</td>\n",
              "      <td>-0.635479</td>\n",
              "      <td>-1.345389</td>\n",
              "      <td>1.181946</td>\n",
              "      <td>-0.329210</td>\n",
              "      <td>-0.664464</td>\n",
              "    </tr>\n",
              "    <tr>\n",
              "      <th>3</th>\n",
              "      <td>0.374575</td>\n",
              "      <td>0.616587</td>\n",
              "      <td>0.249981</td>\n",
              "      <td>-1.385214</td>\n",
              "      <td>0.960841</td>\n",
              "      <td>0.112599</td>\n",
              "      <td>0.537786</td>\n",
              "      <td>-0.633101</td>\n",
              "      <td>-1.345526</td>\n",
              "      <td>0.707873</td>\n",
              "      <td>-0.329251</td>\n",
              "      <td>-0.664458</td>\n",
              "    </tr>\n",
              "    <tr>\n",
              "      <th>4</th>\n",
              "      <td>0.097761</td>\n",
              "      <td>0.460539</td>\n",
              "      <td>0.096403</td>\n",
              "      <td>-1.381857</td>\n",
              "      <td>0.955682</td>\n",
              "      <td>0.065470</td>\n",
              "      <td>0.537560</td>\n",
              "      <td>-0.653431</td>\n",
              "      <td>-1.351449</td>\n",
              "      <td>3.182913</td>\n",
              "      <td>-0.328578</td>\n",
              "      <td>-0.665133</td>\n",
              "    </tr>\n",
              "    <tr>\n",
              "      <th>...</th>\n",
              "      <td>...</td>\n",
              "      <td>...</td>\n",
              "      <td>...</td>\n",
              "      <td>...</td>\n",
              "      <td>...</td>\n",
              "      <td>...</td>\n",
              "      <td>...</td>\n",
              "      <td>...</td>\n",
              "      <td>...</td>\n",
              "      <td>...</td>\n",
              "      <td>...</td>\n",
              "      <td>...</td>\n",
              "    </tr>\n",
              "    <tr>\n",
              "      <th>24995</th>\n",
              "      <td>-0.044384</td>\n",
              "      <td>0.693299</td>\n",
              "      <td>0.991055</td>\n",
              "      <td>1.821687</td>\n",
              "      <td>0.718936</td>\n",
              "      <td>0.397160</td>\n",
              "      <td>-1.873936</td>\n",
              "      <td>-0.476812</td>\n",
              "      <td>1.034967</td>\n",
              "      <td>3.264399</td>\n",
              "      <td>0.313977</td>\n",
              "      <td>-0.696084</td>\n",
              "    </tr>\n",
              "    <tr>\n",
              "      <th>24996</th>\n",
              "      <td>-0.014463</td>\n",
              "      <td>0.696451</td>\n",
              "      <td>0.991055</td>\n",
              "      <td>1.821621</td>\n",
              "      <td>0.719047</td>\n",
              "      <td>0.400886</td>\n",
              "      <td>-1.873940</td>\n",
              "      <td>-0.476066</td>\n",
              "      <td>1.034990</td>\n",
              "      <td>3.279803</td>\n",
              "      <td>0.313964</td>\n",
              "      <td>-0.696070</td>\n",
              "    </tr>\n",
              "    <tr>\n",
              "      <th>24997</th>\n",
              "      <td>-0.018201</td>\n",
              "      <td>0.691197</td>\n",
              "      <td>0.988617</td>\n",
              "      <td>1.821637</td>\n",
              "      <td>0.719055</td>\n",
              "      <td>0.398502</td>\n",
              "      <td>-1.873943</td>\n",
              "      <td>-0.477910</td>\n",
              "      <td>1.034967</td>\n",
              "      <td>3.230677</td>\n",
              "      <td>0.313967</td>\n",
              "      <td>-0.696069</td>\n",
              "    </tr>\n",
              "    <tr>\n",
              "      <th>24998</th>\n",
              "      <td>0.022947</td>\n",
              "      <td>0.690671</td>\n",
              "      <td>0.993492</td>\n",
              "      <td>1.821530</td>\n",
              "      <td>0.719041</td>\n",
              "      <td>0.395202</td>\n",
              "      <td>-1.873940</td>\n",
              "      <td>-0.476059</td>\n",
              "      <td>1.034967</td>\n",
              "      <td>3.234577</td>\n",
              "      <td>0.313946</td>\n",
              "      <td>-0.696071</td>\n",
              "    </tr>\n",
              "    <tr>\n",
              "      <th>24999</th>\n",
              "      <td>0.004242</td>\n",
              "      <td>0.689095</td>\n",
              "      <td>0.983742</td>\n",
              "      <td>1.821622</td>\n",
              "      <td>0.719119</td>\n",
              "      <td>0.394331</td>\n",
              "      <td>-1.873951</td>\n",
              "      <td>-0.477038</td>\n",
              "      <td>1.034967</td>\n",
              "      <td>3.190441</td>\n",
              "      <td>0.313964</td>\n",
              "      <td>-0.696060</td>\n",
              "    </tr>\n",
              "  </tbody>\n",
              "</table>\n",
              "<p>25000 rows × 12 columns</p>\n",
              "</div>"
            ],
            "text/plain": [
              "             Fx        Fy        Fz  ... force vec         a         b\n",
              "0      0.411985  0.579808  0.252419  ...  1.148648 -0.329250 -0.664467\n",
              "1      0.426945  0.580859  0.262170  ...  1.160420 -0.329265 -0.664474\n",
              "2      0.426945  0.579282  0.259732  ...  1.181946 -0.329210 -0.664464\n",
              "3      0.374575  0.616587  0.249981  ...  0.707873 -0.329251 -0.664458\n",
              "4      0.097761  0.460539  0.096403  ...  3.182913 -0.328578 -0.665133\n",
              "...         ...       ...       ...  ...       ...       ...       ...\n",
              "24995 -0.044384  0.693299  0.991055  ...  3.264399  0.313977 -0.696084\n",
              "24996 -0.014463  0.696451  0.991055  ...  3.279803  0.313964 -0.696070\n",
              "24997 -0.018201  0.691197  0.988617  ...  3.230677  0.313967 -0.696069\n",
              "24998  0.022947  0.690671  0.993492  ...  3.234577  0.313946 -0.696071\n",
              "24999  0.004242  0.689095  0.983742  ...  3.190441  0.313964 -0.696060\n",
              "\n",
              "[25000 rows x 12 columns]"
            ]
          },
          "metadata": {
            "tags": []
          }
        },
        {
          "output_type": "stream",
          "text": [
            "MultiIndex([(       'Fx',),\n",
            "            (       'Fy',),\n",
            "            (       'Fz',),\n",
            "            (        'x',),\n",
            "            (        'y',),\n",
            "            (        'z',),\n",
            "            (       'Rx',),\n",
            "            (       'Ry',),\n",
            "            (       'Rz',),\n",
            "            ('force vec',),\n",
            "            (        'a',),\n",
            "            (        'b',)],\n",
            "           )\n"
          ],
          "name": "stdout"
        }
      ]
    },
    {
      "cell_type": "code",
      "metadata": {
        "id": "q81G__RdsyNC"
      },
      "source": [
        "# print(data.columns)\n",
        "# print(data.get((      'Hx2',)))\n",
        "# data.loc[: , (      'Hx2',)]\n",
        "# data[(      'Hx2',)].replace(-0.28479, 0, inplace=True)\n",
        "# data[(      'Hx2',)].replace(-0.6069399999999999, 1, inplace=True)#, -0.51395: 1}}) #399999999999\n",
        "# #data.replace(-0.65360, 0, inplace=True)\n",
        "# #data.replace(-0.51395, 1, inplace=True)\n",
        "\n",
        "# display(data)\n",
        "# a = data.iloc[26245, 9]\n",
        "# b = data.iloc[26245, 10]\n",
        "\n",
        "# print(a,b)\n"
      ],
      "execution_count": 15,
      "outputs": []
    },
    {
      "cell_type": "code",
      "metadata": {
        "id": "DnQSogHEtgYH"
      },
      "source": [
        ""
      ],
      "execution_count": 15,
      "outputs": []
    },
    {
      "cell_type": "markdown",
      "metadata": {
        "id": "0TRvN1R4hK2q"
      },
      "source": [
        "# Create Training and Testing Data Batches\n",
        "---\n",
        "This block takes the whole dataset and divides it up into individual trajectories that are 1000 samples each.\n",
        "<br>\n",
        "As the data were collected by performing different kineasthetic trajectories through the taskspace, and each trajectory was performed ten times; the trajectories are shuffled to remove corrolations between them. \n",
        "<br>\n",
        "Later, you will see how the trajectories themselves are further split into slices, and the model is trained on one slice at a time. Typical slice sizes have been 500, 250 and 125.\n",
        "<br>\n",
        "Because of this extra slicing, one may ask; why not just divide the dataset into 500, 250 or 125 sample trajectories to begine with?\n",
        "<br>\n",
        "We need to shuffle the trajectories to break up any corrolation between them, but doing this to all the slices would destroy the collolarion between slices belonging to a each trajectory. \n",
        "<br>\n",
        "Every batch of slices needs to be kelpt together during traing because they are still used as full trajectories by the model during training by not resetting the hidden states of the LSTM layers until all slices of a particular trajectory have been seen. \n",
        "<br>\n",
        "This means, that although the model has its parameters updated after seeing each slice, the history of previous slices still influence the training until the full trajectoy has passed through and the hidden states get reset.\n",
        "<br><br>\n",
        "Due to the current size of the dataset, The training set consists of sixty trajectories.\n",
        "<br>\n",
        "This leave a remander of eleven trajectories to test with; therefore, testing and validation sets use the same eleven trajectories; however,\n",
        "in order to compare training and testing loss as the model learns, the number of testing trajectory is inflated by copying them until they are the same length.\n",
        "<br>\n",
        "To overcome the problem of such a small testing set, cross validation is used to compare models and get an average loss overall. \n",
        "The cross validation is simply initiated by changing the random seed at the beginning of the notebook which reshuffels the data, resulting in largly different training and testing trajectories. \n",
        "\n",
        "\n",
        "---"
      ]
    },
    {
      "cell_type": "code",
      "metadata": {
        "scrolled": false,
        "id": "IGY4CFZ9-zP4",
        "colab": {
          "base_uri": "https://localhost:8080/"
        },
        "outputId": "6cd13f92-e08b-4ae7-ab63-cf01d0eb0cee"
      },
      "source": [
        "n= get_traj_length()  ## num samples per trajectory/sequence.\n",
        "batchesx = [data[i:i + n] for i in range(0, len(data), n)] ## a list comprehension to build the data batches.\n",
        "print(len(batchesx))\n",
        "\n",
        "\n",
        "'''for i in batchesx:\n",
        "    i[:20] = 0''' ## no longer needed as we don't use the rolling average on force vector. \n",
        "\n",
        "#display(batchesx[59].head(25))\n",
        "\n",
        "random.seed(get_random_seed())\n",
        "random.shuffle(batchesx)\n",
        "\n",
        "\n",
        "batches = batchesx[:40] ## Training batches up to the 60th sequence/trajectory.\n",
        "val_batches = batchesx[40:50] ## Validation batches starting from the 60th sequence.\n",
        "\n",
        "## Append extra validation batches to even the number training and validation batches.\n",
        "## This is because the training loop performs a validation test on each iteration\n",
        "## and so always needs something to validate against.  \n",
        "while len(val_batches) < len(batches): \n",
        "    for i in batchesx[40:50]:\n",
        "        val_batches.append(i)\n",
        "random.shuffle(val_batches)\n",
        "\n",
        "test_batches = batchesx[40:50] ## Testing batches, same as validation batches, without the appendages.\n",
        "print(len(batches), len(val_batches), len(test_batches))\n",
        "\n",
        "## the last 30 trajectories are held back for unseen validation. Once there is no more tweeking done to the model. "
      ],
      "execution_count": 16,
      "outputs": [
        {
          "output_type": "stream",
          "text": [
            "50\n",
            "40 40 10\n"
          ],
          "name": "stdout"
        }
      ]
    },
    {
      "cell_type": "code",
      "metadata": {
        "id": "S6gsmjfbCBN7",
        "colab": {
          "base_uri": "https://localhost:8080/",
          "height": 198
        },
        "outputId": "05ea2e94-5988-42b4-d180-95c098443fde"
      },
      "source": [
        "display(batches[0].head())\n"
      ],
      "execution_count": 17,
      "outputs": [
        {
          "output_type": "display_data",
          "data": {
            "text/html": [
              "<div>\n",
              "<style scoped>\n",
              "    .dataframe tbody tr th:only-of-type {\n",
              "        vertical-align: middle;\n",
              "    }\n",
              "\n",
              "    .dataframe tbody tr th {\n",
              "        vertical-align: top;\n",
              "    }\n",
              "\n",
              "    .dataframe thead tr th {\n",
              "        text-align: left;\n",
              "    }\n",
              "</style>\n",
              "<table border=\"1\" class=\"dataframe\">\n",
              "  <thead>\n",
              "    <tr>\n",
              "      <th></th>\n",
              "      <th>Fx</th>\n",
              "      <th>Fy</th>\n",
              "      <th>Fz</th>\n",
              "      <th>x</th>\n",
              "      <th>y</th>\n",
              "      <th>z</th>\n",
              "      <th>Rx</th>\n",
              "      <th>Ry</th>\n",
              "      <th>Rz</th>\n",
              "      <th>force vec</th>\n",
              "      <th>a</th>\n",
              "      <th>b</th>\n",
              "    </tr>\n",
              "  </thead>\n",
              "  <tbody>\n",
              "    <tr>\n",
              "      <th>21500</th>\n",
              "      <td>0.576579</td>\n",
              "      <td>0.554063</td>\n",
              "      <td>0.822851</td>\n",
              "      <td>-1.334155</td>\n",
              "      <td>0.308265</td>\n",
              "      <td>-1.343758</td>\n",
              "      <td>0.532621</td>\n",
              "      <td>-0.876847</td>\n",
              "      <td>-1.083520</td>\n",
              "      <td>2.891871</td>\n",
              "      <td>-0.319010</td>\n",
              "      <td>-0.749774</td>\n",
              "    </tr>\n",
              "    <tr>\n",
              "      <th>21501</th>\n",
              "      <td>0.606506</td>\n",
              "      <td>0.562470</td>\n",
              "      <td>0.820413</td>\n",
              "      <td>-1.334206</td>\n",
              "      <td>0.308197</td>\n",
              "      <td>-1.341195</td>\n",
              "      <td>0.532617</td>\n",
              "      <td>-0.874925</td>\n",
              "      <td>-1.083611</td>\n",
              "      <td>2.850299</td>\n",
              "      <td>-0.319020</td>\n",
              "      <td>-0.749783</td>\n",
              "    </tr>\n",
              "    <tr>\n",
              "      <th>21502</th>\n",
              "      <td>0.565358</td>\n",
              "      <td>0.564046</td>\n",
              "      <td>0.830164</td>\n",
              "      <td>-1.334315</td>\n",
              "      <td>0.308070</td>\n",
              "      <td>-1.333280</td>\n",
              "      <td>0.532638</td>\n",
              "      <td>-0.873700</td>\n",
              "      <td>-1.083566</td>\n",
              "      <td>2.821526</td>\n",
              "      <td>-0.319042</td>\n",
              "      <td>-0.749799</td>\n",
              "    </tr>\n",
              "    <tr>\n",
              "      <th>21503</th>\n",
              "      <td>0.595284</td>\n",
              "      <td>0.558266</td>\n",
              "      <td>0.815537</td>\n",
              "      <td>-1.334234</td>\n",
              "      <td>0.308424</td>\n",
              "      <td>-1.341148</td>\n",
              "      <td>0.532604</td>\n",
              "      <td>-0.874625</td>\n",
              "      <td>-1.083588</td>\n",
              "      <td>2.854629</td>\n",
              "      <td>-0.319026</td>\n",
              "      <td>-0.749753</td>\n",
              "    </tr>\n",
              "    <tr>\n",
              "      <th>21504</th>\n",
              "      <td>0.569102</td>\n",
              "      <td>0.551436</td>\n",
              "      <td>0.800911</td>\n",
              "      <td>-1.334141</td>\n",
              "      <td>0.308358</td>\n",
              "      <td>-1.338588</td>\n",
              "      <td>0.532606</td>\n",
              "      <td>-0.875114</td>\n",
              "      <td>-1.080543</td>\n",
              "      <td>2.837237</td>\n",
              "      <td>-0.319007</td>\n",
              "      <td>-0.749762</td>\n",
              "    </tr>\n",
              "  </tbody>\n",
              "</table>\n",
              "</div>"
            ],
            "text/plain": [
              "             Fx        Fy        Fz  ... force vec         a         b\n",
              "21500  0.576579  0.554063  0.822851  ...  2.891871 -0.319010 -0.749774\n",
              "21501  0.606506  0.562470  0.820413  ...  2.850299 -0.319020 -0.749783\n",
              "21502  0.565358  0.564046  0.830164  ...  2.821526 -0.319042 -0.749799\n",
              "21503  0.595284  0.558266  0.815537  ...  2.854629 -0.319026 -0.749753\n",
              "21504  0.569102  0.551436  0.800911  ...  2.837237 -0.319007 -0.749762\n",
              "\n",
              "[5 rows x 12 columns]"
            ]
          },
          "metadata": {
            "tags": []
          }
        }
      ]
    },
    {
      "cell_type": "markdown",
      "metadata": {
        "id": "tM22W0mO2SKA"
      },
      "source": [
        "# Create Sequence Batches\n",
        "---\n",
        "It turns out that this sequencial data problem is more similar to natural language processing rather than stock pridiction because we have set sequences of data rather than continuous data, and because we need to make predictions righ from the start of each sequence not just at the end of them.\n",
        "\n",
        "---\n",
        "\n",
        "<br>\n",
        "Natural language prosessing or nlp, has the problem of needing to input sequences of differing lengths (because words and sentences have different lengths) into an recurrant network that only accepts fixed length vectors. \n",
        "<br>\n",
        "To Overcome this, npl engineers use 'zero padding' which fills up a word or sentence vector with zeros until it is the correct size for the network. \n",
        "<br>\n",
        "This work is a little different but the zero padding technique helps a lot but allowing use to input every timestep of a trajectory from beginning to end while making predictions on every one. \n",
        "<br>\n",
        "To makes things a little mopre clear- the first datapoint of a trajectory is just that, one single datapoint, a sequence consisting of one timestep, but the final datapoint is part of a sequence containing a history of the previous 999 timesteps. \n",
        "<br>\n",
        "In order to fit these and all the other datapoints into the network,\n",
        "they need to be zeropadded to length 1000.\n",
        "The first sequence to be fed through the network will consist of one single datapoint and '999*num_features' zeros. \n",
        "<br>\n",
        "This means, that despite only having one single datapoint at the beginning of the trajectory, our LSTM-based model can still make a valid prediction of the force at that point.  \n",
        "\n",
        "---"
      ]
    },
    {
      "cell_type": "code",
      "metadata": {
        "id": "nehzUS3F-zQA"
      },
      "source": [
        "def get_batches(batch_num, start_seq):  \n",
        "    \n",
        "    seq_size = get_seq_length() # 1000 = full trajectories\n",
        "    features_num = get_features()\n",
        "\n",
        "    # random.seed(batch_num)\n",
        "    # random.shuffle(batches) # ive turned this off to test new cleaned data\n",
        "\n",
        "    # Randomise the fetching of new data to break the corrolation of training.\n",
        "    #print(batch_num)\n",
        "    #print(type(batches[batch_num])) \n",
        "    data = batches[batch_num].reset_index(drop=True)\n",
        "    data= data[start_seq:seq_size+start_seq]\n",
        "    ################################################\n",
        "\n",
        "    X_train = []\n",
        "    X_test = []\n",
        "    \n",
        "    if features_num == 4:\n",
        "        features = data[['joint_0', 'joint_2', 'joint_4', 'joint_5']]\n",
        "    else:\n",
        "        features = data[['x', 'y', 'z', 'Rx', 'Ry', 'Rz']]#,'Hz', 'HRz', 'O1x', 'O1y', 'O2x', 'O2y']]\n",
        "    features = np.asarray(features)\n",
        "\n",
        "\n",
        "    targets = data.iloc[:,:3]\n",
        "    targets = np.asarray(targets)\n",
        "    targets = targets.reshape(-1,3)\n",
        "\n",
        "    ## Create Zero-Padded Training Batches ##\n",
        "    for i in range(len(features)):           \n",
        "        \n",
        "        np.random.seed(42)\n",
        "       \n",
        "        X =(features[:i+1])\n",
        "        an_array = np.array(X)\n",
        "        shape = np.shape(X)\n",
        "        temp = np.zeros((seq_size, features_num))\n",
        "        temp[(seq_size-shape[0]):,:shape[1]] = an_array\n",
        "        X_train.append(temp)\n",
        "    y_train = targets\n",
        "    #--------------------------------------------------------------------------\n",
        "    \n",
        "    ## Validation Batches\n",
        "    data = val_batches[batch_num].reset_index(drop=True)\n",
        "    data= data[start_seq:seq_size+start_seq]\n",
        "\n",
        "    if features_num == 4:\n",
        "        features = data[['joint_0', 'joint_2', 'joint_4', 'joint_5']]\n",
        "    else:\n",
        "        features = data[['x', 'y', 'z', 'Rx', 'Ry', 'Rz']]#,'Hz', 'HRz', 'O1x', 'O1y', 'O2x', 'O2y',]]\n",
        "    features = np.asarray(features)\n",
        "\n",
        "\n",
        "    targets = data.iloc[:,:3]\n",
        "    targets = np.asarray(targets)\n",
        "    targets = targets.reshape(-1,3)\n",
        "    \n",
        "    for i in range(len(features)):           \n",
        "   \n",
        "        X =(features[:i+1])\n",
        "        an_array = np.array(X)\n",
        "        shape = np.shape(X)\n",
        "        temp = np.zeros((seq_size, features_num))\n",
        "        temp[(seq_size-shape[0]):,:shape[1]] = an_array\n",
        "        X_test.append(temp)\n",
        "    y_test = targets\n",
        "##############################################################################\n",
        "    ## Change data to cuda tensors to use on gpu.\n",
        "    X_train = torch.cuda.FloatTensor(X_train) \n",
        "    y_train = torch.cuda.FloatTensor(y_train)\n",
        "    X_test = torch.cuda.FloatTensor(X_test)\n",
        "    y_test = torch.cuda.FloatTensor(y_test)\n",
        "    \n",
        "    del targets, features, data ## clear large volumn variables from mem\n",
        "    \n",
        "    #print(data)\n",
        "    #print(X_train.shape, y_train.shape, X_test.shape, y_test.shape)\n",
        "    return(X_train, y_train, X_test, y_test)"
      ],
      "execution_count": 18,
      "outputs": []
    },
    {
      "cell_type": "markdown",
      "metadata": {
        "id": "Lqp4rH4m2BCR"
      },
      "source": [
        "# Test Batches\n",
        "---\n",
        "\n"
      ]
    },
    {
      "cell_type": "code",
      "metadata": {
        "id": "WabAxpcY-zP8"
      },
      "source": [
        "def get_test_batch(batch_number, start_seq):\n",
        "    \n",
        "    seq_size = get_seq_length() ## 1000 for testing 50-100 for training\n",
        "    features_num = get_features()\n",
        "\n",
        "    X_test = []\n",
        "\n",
        "    data = test_batches[batch_number].reset_index(drop=True)\n",
        "    data= data[start_seq:seq_size+start_seq]\n",
        "\n",
        "    if features_num == 4:\n",
        "        features = data[['joint_0', 'joint_2', 'joint_4', 'joint_5']]\n",
        "    else:\n",
        "        features = data[['x', 'y', 'z', 'Rx', 'Ry', 'Rz']]#,'Hz', 'HRz', 'O1x', 'O1y', 'O2x', 'O2y',]]\n",
        "    features = np.asarray(features)\n",
        "    y_test = data.iloc[:,9]\n",
        "    \n",
        "    for i in range(len(features)):           \n",
        "   \n",
        "        X =(features[:i+1])\n",
        "        an_array = np.array(X)\n",
        "        shape = np.shape(X)\n",
        "        temp = np.zeros((seq_size, features_num))\n",
        "        temp[(seq_size-shape[0]):,:shape[1]] = an_array\n",
        "        X_test.append(temp)\n",
        "\n",
        "    \n",
        "    X_test = torch.cuda.FloatTensor(X_test)\n",
        "    return(X_test, y_test)\n",
        "  "
      ],
      "execution_count": 19,
      "outputs": []
    },
    {
      "cell_type": "markdown",
      "metadata": {
        "id": "thk1hwULis6G"
      },
      "source": [
        ""
      ]
    },
    {
      "cell_type": "code",
      "metadata": {
        "id": "YfgLji9pGQ27",
        "colab": {
          "base_uri": "https://localhost:8080/"
        },
        "outputId": "d40e8464-f2d4-4b7a-ae2a-02b9e70eb432"
      },
      "source": [
        "if torch.cuda.is_available():\n",
        "    device = torch.device(\"cuda:0\")\n",
        "    print(\"Running on the GPU\")\n",
        "else:\n",
        "    device = torch.device(\"cpu\")\n",
        "    print(\"Running on CPU\")\n"
      ],
      "execution_count": 20,
      "outputs": [
        {
          "output_type": "stream",
          "text": [
            "Running on the GPU\n"
          ],
          "name": "stdout"
        }
      ]
    },
    {
      "cell_type": "code",
      "metadata": {
        "scrolled": true,
        "id": "cv2RZ52m-zQE",
        "colab": {
          "base_uri": "https://localhost:8080/",
          "height": 1000
        },
        "outputId": "a8fdc3b2-dca6-474a-c4cc-81c6392245c4"
      },
      "source": [
        "%%time\n",
        "\n",
        "lstm_layers = get_lstm_layers()\n",
        "seq_length = get_seq_length() # when using zero padding, this seq_length is a bit redundent but still has to match the zero's size.\n",
        "\n",
        "model = ForcePredictor(\n",
        "      n_features=get_features(), \n",
        "      n_hidden= get_hidden(), #32, #64\n",
        "      seq_len=seq_length, \n",
        "      n_layers=lstm_layers\n",
        "    )\n",
        "\n",
        "train_model(model)\n",
        "## starting weight[0] should be -0.0306 assuming we're using 2 LSTM layers and 1 FC layer."
      ],
      "execution_count": null,
      "outputs": [
        {
          "output_type": "stream",
          "text": [
            "Running on the GPU\n",
            "learning rate = 0.005\n",
            "ForcePredictor(\n",
            "  (lstm): LSTM(6, 64, num_layers=2, dropout=0.5)\n",
            "  (linear1): Linear(in_features=64, out_features=3, bias=True)\n",
            ")\n",
            "Starting Weights tensor([[ 0.1018, -0.0686, -0.0514,  0.0751, -0.0798,  0.0332,  0.0337,  0.0866,\n",
            "          0.0564, -0.0441,  0.1148, -0.0416,  0.0671, -0.0179,  0.0908, -0.0186,\n",
            "          0.0492, -0.0900,  0.0584, -0.0058, -0.0209, -0.0617,  0.0073,  0.0795,\n",
            "          0.1113,  0.0049, -0.0771, -0.0716,  0.1181, -0.1114, -0.0450,  0.0730,\n",
            "         -0.0235, -0.0455, -0.0292,  0.0111, -0.0561,  0.0925, -0.1179, -0.1063,\n",
            "          0.0753, -0.1125, -0.1090, -0.0335, -0.0363,  0.0857,  0.0395,  0.0069,\n",
            "         -0.0057,  0.0109, -0.0493,  0.0319, -0.0469, -0.0094, -0.1084,  0.0524,\n",
            "          0.1106,  0.0166, -0.0377, -0.0090,  0.0406, -0.1182,  0.0254,  0.0630],\n",
            "        [ 0.0262,  0.0087,  0.0732, -0.0909, -0.0489, -0.0879, -0.1015,  0.0089,\n",
            "         -0.0904, -0.0381, -0.0975,  0.0094, -0.0281,  0.1106,  0.0161,  0.0541,\n",
            "          0.1075,  0.0340, -0.0631, -0.0518, -0.1158,  0.1078,  0.0066,  0.1116,\n",
            "         -0.0649, -0.1114, -0.0513,  0.0677,  0.0457,  0.0760,  0.0755,  0.0438,\n",
            "          0.0519, -0.0857,  0.0312, -0.0680, -0.0789, -0.0125,  0.1152, -0.0344,\n",
            "         -0.0665,  0.0015,  0.0320, -0.1122, -0.0604, -0.1036,  0.1056,  0.0119,\n",
            "          0.0147, -0.0150,  0.0469,  0.0693,  0.1068,  0.1092,  0.0059,  0.0297,\n",
            "          0.0167, -0.0999, -0.0842,  0.0413,  0.0194, -0.1139, -0.0137,  0.0613],\n",
            "        [-0.0547, -0.0015, -0.0491,  0.0347,  0.0043,  0.0027,  0.0154, -0.0557,\n",
            "          0.0256,  0.0151,  0.0560,  0.1207,  0.0792,  0.0164, -0.0660, -0.0619,\n",
            "          0.1168,  0.0777,  0.0689, -0.0042, -0.0844,  0.0920, -0.1233, -0.0670,\n",
            "         -0.1024, -0.0714,  0.1207,  0.0312,  0.0213, -0.0683, -0.0313,  0.0126,\n",
            "          0.0398, -0.0206, -0.1039, -0.0033, -0.1044, -0.0049, -0.0188,  0.0980,\n",
            "          0.1243, -0.0254, -0.0176,  0.1064,  0.0399,  0.1064, -0.0505,  0.1157,\n",
            "         -0.1216,  0.0163,  0.0173,  0.0862, -0.0890,  0.0628,  0.0768,  0.0651,\n",
            "         -0.0586, -0.1014,  0.0320,  0.0464, -0.0029,  0.0158, -0.0431,  0.0384]],\n",
            "       device='cuda:0')\n",
            "Epoch: 0 Traj:0 Time Elapsed: 0:00:01 train loss: 0.26018146611750126 test loss: 0.07672961056232452\n",
            "Epoch: 0 Traj:1 Time Elapsed: 0:00:02 train loss: 3.3889608085155487 test loss: 0.16888897120952606\n",
            "Epoch: 0 Traj:2 Time Elapsed: 0:00:02 train loss: 2.7735084891319275 test loss: 1.0874085277318954\n",
            "Epoch: 0 Traj:3 Time Elapsed: 0:00:03 train loss: 1.3324632458388805 test loss: 0.8422454595565796\n",
            "Epoch: 0 Traj:4 Time Elapsed: 0:00:03 train loss: 0.2954169698059559 test loss: 0.7904359325766563\n",
            "Epoch: 0 Traj:5 Time Elapsed: 0:00:04 train loss: 2.4790156185626984 test loss: 0.5082088895142078\n",
            "Epoch: 0 Traj:6 Time Elapsed: 0:00:04 train loss: 1.3845458626747131 test loss: 0.9038408920168877\n",
            "Epoch: 0 Traj:7 Time Elapsed: 0:00:04 train loss: 0.5331704467535019 test loss: 0.5147037282586098\n",
            "Epoch: 0 Traj:8 Time Elapsed: 0:00:05 train loss: 1.0130334421992302 test loss: 0.8918028250336647\n",
            "Epoch: 0 Traj:9 Time Elapsed: 0:00:05 train loss: 2.3322600424289703 test loss: 0.392302006483078\n",
            "Epoch: 0 Traj:10 Time Elapsed: 0:00:06 train loss: 0.8206793069839478 test loss: 0.19008558057248592\n",
            "Epoch: 0 Traj:11 Time Elapsed: 0:00:07 train loss: 0.47256677597761154 test loss: 1.0805309414863586\n",
            "Epoch: 0 Traj:12 Time Elapsed: 0:00:07 train loss: 2.118819460272789 test loss: 1.0683239921927452\n",
            "Epoch: 0 Traj:13 Time Elapsed: 0:00:08 train loss: 0.3475555516779423 test loss: 0.6004955619573593\n",
            "Epoch: 0 Traj:14 Time Elapsed: 0:00:08 train loss: 0.8713375180959702 test loss: 0.8274368904531002\n",
            "Epoch: 0 Traj:15 Time Elapsed: 0:00:09 train loss: 0.18717123568058014 test loss: 0.8300045281648636\n",
            "Epoch: 0 Traj:16 Time Elapsed: 0:00:09 train loss: 0.19344109948724508 test loss: 1.1235173791646957\n",
            "Epoch: 0 Traj:17 Time Elapsed: 0:00:10 train loss: 2.1098093390464783 test loss: 0.9001918360590935\n",
            "Epoch: 0 Traj:18 Time Elapsed: 0:00:10 train loss: 0.39053075574338436 test loss: 0.42344390600919724\n",
            "Epoch: 0 Traj:19 Time Elapsed: 0:00:11 train loss: 0.8248591423034668 test loss: 0.8792565539479256\n",
            "Epoch: 0 Traj:20 Time Elapsed: 0:00:11 train loss: 0.8356139063835144 test loss: 0.6159799136221409\n",
            "Epoch: 0 Traj:21 Time Elapsed: 0:00:12 train loss: 0.32569896057248116 test loss: 0.5700642243027687\n",
            "Epoch: 0 Traj:22 Time Elapsed: 0:00:12 train loss: 0.15024731494486332 test loss: 0.13390194159001112\n",
            "Epoch: 0 Traj:23 Time Elapsed: 0:00:13 train loss: 1.7970236465334892 test loss: 0.40819893404841423\n",
            "Epoch: 0 Traj:24 Time Elapsed: 0:00:13 train loss: 1.2171315401792526 test loss: 0.6427887827157974\n",
            "Epoch: 0 Traj:25 Time Elapsed: 0:00:14 train loss: 0.9297375157475471 test loss: 1.266304723918438\n",
            "Epoch: 0 Traj:26 Time Elapsed: 0:00:14 train loss: 0.7077772542834282 test loss: 1.288087137043476\n",
            "Epoch: 0 Traj:27 Time Elapsed: 0:00:15 train loss: 0.7938073351979256 test loss: 0.433687282493338\n",
            "Epoch: 0 Traj:28 Time Elapsed: 0:00:15 train loss: 0.2635624445974827 test loss: 0.3749690055847168\n",
            "Epoch: 0 Traj:29 Time Elapsed: 0:00:16 train loss: 0.39156826958060265 test loss: 0.6209407113492489\n",
            "Epoch: 0 Traj:30 Time Elapsed: 0:00:16 train loss: 0.508358022198081 test loss: 1.070503443479538\n",
            "Epoch: 0 Traj:31 Time Elapsed: 0:00:17 train loss: 0.6380838602781296 test loss: 0.1452415995299816\n",
            "Epoch: 0 Traj:32 Time Elapsed: 0:00:17 train loss: 0.8627348020672798 test loss: 0.45869817957282066\n",
            "Epoch: 0 Traj:33 Time Elapsed: 0:00:18 train loss: 0.2240516096353531 test loss: 1.336091324687004\n",
            "Epoch: 0 Traj:34 Time Elapsed: 0:00:18 train loss: 0.6523269712924957 test loss: 0.3497461788356304\n",
            "Epoch: 0 Traj:35 Time Elapsed: 0:00:18 train loss: 0.6438424214720726 test loss: 0.4047309122979641\n",
            "Epoch: 0 Traj:36 Time Elapsed: 0:00:19 train loss: 0.4274991452693939 test loss: 1.069858878850937\n",
            "Epoch: 0 Traj:37 Time Elapsed: 0:00:20 train loss: 0.9856939986348152 test loss: 0.279794180765748\n",
            "Epoch: 0 Traj:38 Time Elapsed: 0:00:20 train loss: 0.5269138738512993 test loss: 0.3075311277061701\n",
            "Epoch: 0 Traj:39 Time Elapsed: 0:00:21 train loss: 0.8502580970525742 test loss: 0.38567376881837845\n",
            "\n",
            " Saving model \n",
            "\n",
            "Successfully created the directory /content/drive/My Drive/PhD/PhD/lstm3/model38/params_folder\n",
            "Save path = /content/drive/My Drive/PhD/PhD/lstm3/model38/params_folder/model_params38_v0.pt\n",
            "\n",
            " Average Loss\n",
            "0.9465314391767606\n",
            "\n",
            " Average Test Loss\n",
            "0.6565661566040945 \n",
            "\n",
            "Difference Between Training and Testing Losses\n",
            "-0.2899652825726662 \n",
            "\n",
            "Successfully created the directory /content/drive/My Drive/PhD/PhD/lstm3/model38/model38_v0/ \n",
            "Done\n",
            " Epoch:1 Traj:39  Time Elapsed: 0:00:48\n",
            " Saving model \n",
            "\n",
            "Creation of the directory /content/drive/My Drive/PhD/PhD/lstm3/model38/params_folder failed\n",
            "Save path = /content/drive/My Drive/PhD/PhD/lstm3/model38/params_folder/model_params38_v1.pt\n",
            "\n",
            " Average Loss\n",
            "0.7833188283955679\n",
            "\n",
            " Average Test Loss\n",
            "0.5803187093348242 \n",
            "\n",
            "Difference Between Training and Testing Losses\n",
            "-0.20300011906074367 \n",
            "\n",
            "Successfully created the directory /content/drive/My Drive/PhD/PhD/lstm3/model38/model38_v1/ \n",
            "Done\n"
          ],
          "name": "stdout"
        },
        {
          "output_type": "display_data",
          "data": {
            "text/plain": [
              "<Figure size 432x288 with 0 Axes>"
            ]
          },
          "metadata": {
            "tags": []
          }
        },
        {
          "output_type": "display_data",
          "data": {
            "text/plain": [
              "<Figure size 648x432 with 0 Axes>"
            ]
          },
          "metadata": {
            "tags": []
          }
        },
        {
          "output_type": "display_data",
          "data": {
            "image/png": "[encoded data removed]",
            "text/plain": [
              "<Figure size 432x288 with 1 Axes>"
            ]
          },
          "metadata": {
            "tags": [],
            "needs_background": "light"
          }
        },
        {
          "output_type": "display_data",
          "data": {
            "text/plain": [
              "<Figure size 640x480 with 0 Axes>"
            ]
          },
          "metadata": {
            "tags": []
          }
        },
        {
          "output_type": "stream",
          "text": [
            " Epoch:2 Traj:39  Time Elapsed: 0:01:15\n",
            " Saving model \n",
            "\n",
            "Creation of the directory /content/drive/My Drive/PhD/PhD/lstm3/model38/params_folder failed\n",
            "Save path = /content/drive/My Drive/PhD/PhD/lstm3/model38/params_folder/model_params38_v2.pt\n",
            "\n",
            " Average Loss\n",
            "0.7120191263733432\n",
            "\n",
            " Average Test Loss\n",
            "0.5774204470799305 \n",
            "\n",
            "Difference Between Training and Testing Losses\n",
            "-0.13459867929341274 \n",
            "\n",
            "Successfully created the directory /content/drive/My Drive/PhD/PhD/lstm3/model38/model38_v2/ \n",
            "Done\n"
          ],
          "name": "stdout"
        },
        {
          "output_type": "display_data",
          "data": {
            "text/plain": [
              "<Figure size 432x288 with 0 Axes>"
            ]
          },
          "metadata": {
            "tags": []
          }
        },
        {
          "output_type": "display_data",
          "data": {
            "text/plain": [
              "<Figure size 648x432 with 0 Axes>"
            ]
          },
          "metadata": {
            "tags": []
          }
        },
        {
          "output_type": "display_data",
          "data": {
            "image/png": "[encoded data removed]",
            "text/plain": [
              "<Figure size 432x288 with 1 Axes>"
            ]
          },
          "metadata": {
            "tags": [],
            "needs_background": "light"
          }
        },
        {
          "output_type": "display_data",
          "data": {
            "text/plain": [
              "<Figure size 640x480 with 0 Axes>"
            ]
          },
          "metadata": {
            "tags": []
          }
        },
        {
          "output_type": "stream",
          "text": [
            " Epoch:3 Traj:39  Time Elapsed: 0:01:42\n",
            " Saving model \n",
            "\n",
            "Creation of the directory /content/drive/My Drive/PhD/PhD/lstm3/model38/params_folder failed\n",
            "Save path = /content/drive/My Drive/PhD/PhD/lstm3/model38/params_folder/model_params38_v3.pt\n",
            "\n",
            " Average Loss\n",
            "0.6863452915102244\n",
            "\n",
            " Average Test Loss\n",
            "0.5521174044231885 \n",
            "\n",
            "Difference Between Training and Testing Losses\n",
            "-0.13422788708703592 \n",
            "\n",
            "Successfully created the directory /content/drive/My Drive/PhD/PhD/lstm3/model38/model38_v3/ \n",
            "Done\n"
          ],
          "name": "stdout"
        },
        {
          "output_type": "display_data",
          "data": {
            "text/plain": [
              "<Figure size 432x288 with 0 Axes>"
            ]
          },
          "metadata": {
            "tags": []
          }
        },
        {
          "output_type": "display_data",
          "data": {
            "text/plain": [
              "<Figure size 648x432 with 0 Axes>"
            ]
          },
          "metadata": {
            "tags": []
          }
        },
        {
          "output_type": "display_data",
          "data": {
            "image/png": "[encoded data removed]",
            "text/plain": [
              "<Figure size 432x288 with 1 Axes>"
            ]
          },
          "metadata": {
            "tags": [],
            "needs_background": "light"
          }
        },
        {
          "output_type": "display_data",
          "data": {
            "text/plain": [
              "<Figure size 640x480 with 0 Axes>"
            ]
          },
          "metadata": {
            "tags": []
          }
        },
        {
          "output_type": "stream",
          "text": [
            " Epoch:4 Traj:39  Time Elapsed: 0:02:10\n",
            " Saving model \n",
            "\n",
            "Creation of the directory /content/drive/My Drive/PhD/PhD/lstm3/model38/params_folder failed\n",
            "Save path = /content/drive/My Drive/PhD/PhD/lstm3/model38/params_folder/model_params38_v4.pt\n",
            "\n",
            " Average Loss\n",
            "0.6697066348977387\n",
            "\n",
            " Average Test Loss\n",
            "0.5397356267203577 \n",
            "\n",
            "Difference Between Training and Testing Losses\n",
            "-0.12997100817738105 \n",
            "\n",
            "Successfully created the directory /content/drive/My Drive/PhD/PhD/lstm3/model38/model38_v4/ \n",
            "Done\n"
          ],
          "name": "stdout"
        },
        {
          "output_type": "display_data",
          "data": {
            "text/plain": [
              "<Figure size 432x288 with 0 Axes>"
            ]
          },
          "metadata": {
            "tags": []
          }
        },
        {
          "output_type": "display_data",
          "data": {
            "text/plain": [
              "<Figure size 648x432 with 0 Axes>"
            ]
          },
          "metadata": {
            "tags": []
          }
        },
        {
          "output_type": "display_data",
          "data": {
            "image/png": "[encoded data removed]",
            "text/plain": [
              "<Figure size 432x288 with 1 Axes>"
            ]
          },
          "metadata": {
            "tags": [],
            "needs_background": "light"
          }
        },
        {
          "output_type": "display_data",
          "data": {
            "text/plain": [
              "<Figure size 640x480 with 0 Axes>"
            ]
          },
          "metadata": {
            "tags": []
          }
        },
        {
          "output_type": "stream",
          "text": [
            "Epoch: 5 Traj:0 Time Elapsed: 0:02:18 train loss: 0.08669655211269855 test loss: 0.30709269270300865\n",
            "Epoch: 5 Traj:1 Time Elapsed: 0:02:19 train loss: 2.11093807220459 test loss: 0.17386106587946415\n",
            "Epoch: 5 Traj:2 Time Elapsed: 0:02:19 train loss: 1.441639307886362 test loss: 0.9597266912460327\n",
            "Epoch: 5 Traj:3 Time Elapsed: 0:02:20 train loss: 0.5124686844646931 test loss: 0.3195034861564636\n",
            "Epoch: 5 Traj:4 Time Elapsed: 0:02:20 train loss: 0.08006254956126213 test loss: 0.5375971496105194\n",
            "Epoch: 5 Traj:5 Time Elapsed: 0:02:21 train loss: 2.465187292546034 test loss: 0.30242177844047546\n",
            "Epoch: 5 Traj:6 Time Elapsed: 0:02:21 train loss: 1.2403177917003632 test loss: 0.911038763821125\n",
            "Epoch: 5 Traj:7 Time Elapsed: 0:02:22 train loss: 0.3955739513039589 test loss: 0.23259937390685081\n",
            "Epoch: 5 Traj:8 Time Elapsed: 0:02:22 train loss: 0.7021532952785492 test loss: 0.8113477379083633\n",
            "Epoch: 5 Traj:9 Time Elapsed: 0:02:23 train loss: 1.9050589203834534 test loss: 0.1792502161115408\n",
            "Epoch: 5 Traj:10 Time Elapsed: 0:02:23 train loss: 0.4408154422417283 test loss: 0.10645301174372435\n",
            "Epoch: 5 Traj:11 Time Elapsed: 0:02:24 train loss: 0.4715519919991493 test loss: 0.54525426030159\n",
            "Epoch: 5 Traj:12 Time Elapsed: 0:02:24 train loss: 1.2190123237669468 test loss: 1.3541350588202477\n",
            "Epoch: 5 Traj:13 Time Elapsed: 0:02:25 train loss: 0.20439621806144714 test loss: 0.5283636376261711\n",
            "Epoch: 5 Traj:14 Time Elapsed: 0:02:25 train loss: 0.40550816897302866 test loss: 0.4483904279768467\n",
            "Epoch: 5 Traj:15 Time Elapsed: 0:02:26 train loss: 0.1610934678465128 test loss: 0.46144135668873787\n",
            "Epoch: 5 Traj:16 Time Elapsed: 0:02:26 train loss: 0.13603071868419647 test loss: 0.9523539692163467\n",
            "Epoch: 5 Traj:17 Time Elapsed: 0:02:27 train loss: 0.8804484158754349 test loss: 0.7840418145060539\n",
            "Epoch: 5 Traj:18 Time Elapsed: 0:02:27 train loss: 0.30271633714437485 test loss: 0.2719405982643366\n",
            "Epoch: 5 Traj:19 Time Elapsed: 0:02:28 train loss: 0.5609681233763695 test loss: 0.7694711610674858\n",
            "Epoch: 5 Traj:20 Time Elapsed: 0:02:28 train loss: 0.6659839525818825 test loss: 0.466962818056345\n",
            "Epoch: 5 Traj:21 Time Elapsed: 0:02:29 train loss: 0.17578151635825634 test loss: 0.5146196633577347\n",
            "Epoch: 5 Traj:22 Time Elapsed: 0:02:29 train loss: 0.06790991220623255 test loss: 0.09103577164933085\n",
            "Epoch: 5 Traj:23 Time Elapsed: 0:02:30 train loss: 1.0021281242370605 test loss: 0.3231503125280142\n",
            "Epoch: 5 Traj:24 Time Elapsed: 0:02:30 train loss: 1.006668046116829 test loss: 0.5409031584858894\n",
            "Epoch: 5 Traj:25 Time Elapsed: 0:02:31 train loss: 0.7913420237600803 test loss: 1.287832148373127\n",
            "Epoch: 5 Traj:26 Time Elapsed: 0:02:31 train loss: 0.5500723943114281 test loss: 1.2499591261148453\n",
            "Epoch: 5 Traj:27 Time Elapsed: 0:02:32 train loss: 0.4445622283965349 test loss: 0.29436700441874564\n",
            "Epoch: 5 Traj:28 Time Elapsed: 0:02:32 train loss: 0.2476399503648281 test loss: 0.3356234021484852\n",
            "Epoch: 5 Traj:29 Time Elapsed: 0:02:33 train loss: 0.2904054783284664 test loss: 0.2767995670437813\n",
            "Epoch: 5 Traj:30 Time Elapsed: 0:02:33 train loss: 0.3344721160829067 test loss: 0.8663421124219894\n",
            "Epoch: 5 Traj:31 Time Elapsed: 0:02:34 train loss: 0.4903741851449013 test loss: 0.13023550994694233\n",
            "Epoch: 5 Traj:32 Time Elapsed: 0:02:34 train loss: 0.6613747216761112 test loss: 0.2668680101633072\n",
            "Epoch: 5 Traj:33 Time Elapsed: 0:02:35 train loss: 0.18127902038395405 test loss: 1.327198602259159\n",
            "Epoch: 5 Traj:34 Time Elapsed: 0:02:35 train loss: 0.4633491672575474 test loss: 0.2650079168379307\n",
            "Epoch: 5 Traj:35 Time Elapsed: 0:02:36 train loss: 0.5483070313930511 test loss: 0.2974599413573742\n",
            "Epoch: 5 Traj:36 Time Elapsed: 0:02:36 train loss: 0.3378463126718998 test loss: 0.8901189416646957\n",
            "Epoch: 5 Traj:37 Time Elapsed: 0:02:37 train loss: 0.8718530610203743 test loss: 0.23230031039565802\n",
            "Epoch: 5 Traj:38 Time Elapsed: 0:02:37 train loss: 0.4100061058998108 test loss: 0.24442019034177065\n",
            "Epoch: 5 Traj:39 Time Elapsed: 0:02:38 train loss: 0.791867084801197 test loss: 0.2961433082818985\n",
            "\n",
            " Saving model \n",
            "\n",
            "Creation of the directory /content/drive/My Drive/PhD/PhD/lstm3/model38/params_folder failed\n",
            "Save path = /content/drive/My Drive/PhD/PhD/lstm3/model38/params_folder/model_params38_v5.pt\n",
            "\n",
            " Average Loss\n",
            "0.6513965014601126\n",
            "\n",
            " Average Test Loss\n",
            "0.5288408016960602 \n",
            "\n",
            "Difference Between Training and Testing Losses\n",
            "-0.12255569976405245 \n",
            "\n",
            "Successfully created the directory /content/drive/My Drive/PhD/PhD/lstm3/model38/model38_v5/ \n",
            "Done\n"
          ],
          "name": "stdout"
        },
        {
          "output_type": "display_data",
          "data": {
            "text/plain": [
              "<Figure size 432x288 with 0 Axes>"
            ]
          },
          "metadata": {
            "tags": []
          }
        },
        {
          "output_type": "display_data",
          "data": {
            "text/plain": [
              "<Figure size 648x432 with 0 Axes>"
            ]
          },
          "metadata": {
            "tags": []
          }
        },
        {
          "output_type": "display_data",
          "data": {
            "image/png": "[encoded data removed]",
            "text/plain": [
              "<Figure size 432x288 with 1 Axes>"
            ]
          },
          "metadata": {
            "tags": [],
            "needs_background": "light"
          }
        },
        {
          "output_type": "display_data",
          "data": {
            "text/plain": [
              "<Figure size 640x480 with 0 Axes>"
            ]
          },
          "metadata": {
            "tags": []
          }
        },
        {
          "output_type": "stream",
          "text": [
            " Epoch:6 Traj:39  Time Elapsed: 0:03:05\n",
            " Saving model \n",
            "\n",
            "Creation of the directory /content/drive/My Drive/PhD/PhD/lstm3/model38/params_folder failed\n",
            "Save path = /content/drive/My Drive/PhD/PhD/lstm3/model38/params_folder/model_params38_v6.pt\n",
            "\n",
            " Average Loss\n",
            "0.6315037074266001\n",
            "\n",
            " Average Test Loss\n",
            "0.5193789175187703 \n",
            "\n",
            "Difference Between Training and Testing Losses\n",
            "-0.11212478990782981 \n",
            "\n",
            "Successfully created the directory /content/drive/My Drive/PhD/PhD/lstm3/model38/model38_v6/ \n",
            "Done\n"
          ],
          "name": "stdout"
        },
        {
          "output_type": "display_data",
          "data": {
            "text/plain": [
              "<Figure size 432x288 with 0 Axes>"
            ]
          },
          "metadata": {
            "tags": []
          }
        },
        {
          "output_type": "display_data",
          "data": {
            "text/plain": [
              "<Figure size 648x432 with 0 Axes>"
            ]
          },
          "metadata": {
            "tags": []
          }
        },
        {
          "output_type": "display_data",
          "data": {
            "image/png": "[encoded data removed]",
            "text/plain": [
              "<Figure size 432x288 with 1 Axes>"
            ]
          },
          "metadata": {
            "tags": [],
            "needs_background": "light"
          }
        },
        {
          "output_type": "display_data",
          "data": {
            "text/plain": [
              "<Figure size 640x480 with 0 Axes>"
            ]
          },
          "metadata": {
            "tags": []
          }
        },
        {
          "output_type": "stream",
          "text": [
            " Epoch:7 Traj:39  Time Elapsed: 0:03:32\n",
            " Saving model \n",
            "\n",
            "Creation of the directory /content/drive/My Drive/PhD/PhD/lstm3/model38/params_folder failed\n",
            "Save path = /content/drive/My Drive/PhD/PhD/lstm3/model38/params_folder/model_params38_v7.pt\n",
            "\n",
            " Average Loss\n",
            "0.6203172612702474\n",
            "\n",
            " Average Test Loss\n",
            "0.5149258020450361 \n",
            "\n",
            "Difference Between Training and Testing Losses\n",
            "-0.10539145922521131 \n",
            "\n",
            "Successfully created the directory /content/drive/My Drive/PhD/PhD/lstm3/model38/model38_v7/ \n",
            "Done\n"
          ],
          "name": "stdout"
        },
        {
          "output_type": "display_data",
          "data": {
            "text/plain": [
              "<Figure size 432x288 with 0 Axes>"
            ]
          },
          "metadata": {
            "tags": []
          }
        },
        {
          "output_type": "display_data",
          "data": {
            "text/plain": [
              "<Figure size 648x432 with 0 Axes>"
            ]
          },
          "metadata": {
            "tags": []
          }
        },
        {
          "output_type": "display_data",
          "data": {
            "image/png": "[encoded data removed]",
            "text/plain": [
              "<Figure size 432x288 with 1 Axes>"
            ]
          },
          "metadata": {
            "tags": [],
            "needs_background": "light"
          }
        },
        {
          "output_type": "display_data",
          "data": {
            "text/plain": [
              "<Figure size 640x480 with 0 Axes>"
            ]
          },
          "metadata": {
            "tags": []
          }
        },
        {
          "output_type": "stream",
          "text": [
            " Epoch:8 Traj:17  Time Elapsed: 0:03:49"
          ],
          "name": "stdout"
        }
      ]
    },
    {
      "cell_type": "markdown",
      "metadata": {
        "id": "L0SQHEnsihAJ"
      },
      "source": [
        "# MAE, Std-Dev and Max Values Plot\n",
        "---\n",
        "This code looks at all the metrics collected and plots the results for easy reference. \n",
        "<br>\n",
        "This removes the need to go through each model's testing trajectories looking for the best fitting model.\n",
        "\n",
        "---"
      ]
    },
    {
      "cell_type": "code",
      "metadata": {
        "id": "IcHVV40pfLS9"
      },
      "source": [
        "def find_file(mod_dir):\n",
        "\n",
        "    file_path = get_path()\n",
        "    \n",
        "    means = []\n",
        "    std_dev = []\n",
        "    max = []\n",
        "    PATH = file_path + \"/*/*.csv\"\n",
        "    print(mod_dir)\n",
        "    print(PATH)\n",
        "    for file in glob.glob(PATH):\n",
        "        w = pd.read_csv(file, low_memory=False)\n",
        "        x = w.iloc[-3,1]\n",
        "        y = w.iloc[-2,1]\n",
        "        z = w.iloc[-1,1]\n",
        "        \n",
        "        means.append(x)\n",
        "        std_dev.append(y)\n",
        "        max.append(z)\n",
        "    min_means = round(min(means),1), ' @ epoch: ', np.argmin(means)\n",
        "    min_std_dev = round(min(std_dev),1), ' @ epoch: ', np.argmin(std_dev)\n",
        "    min_max = round(min(max),1), ' @ epoch: ', np.argmin(max)\n",
        "    return means, std_dev, max, min_means, min_std_dev, min_max\n",
        "    \n"
      ],
      "execution_count": null,
      "outputs": []
    },
    {
      "cell_type": "code",
      "metadata": {
        "id": "F9ksl_GGfM6J"
      },
      "source": [
        "model_num = model_number()\n",
        "\n",
        "means, std_dev, max, min_mean, min_std_dev, min_max = find_file(f'model{model_num}')\n",
        "\n",
        "figure(num=None, figsize=(8, 6), dpi=80, facecolor='w', edgecolor='k');\n",
        "figure(figsize=(20,4));\n",
        "fig = plt.figure();\n",
        "plt.plot(means, label=f'MAE: Min Value={min_mean[0]}{min_mean[1]}{min_mean[2]}');\n",
        "plt.plot(std_dev, label=f'std Dev: Min Value={min_std_dev[0]}{min_std_dev[1]}{min_std_dev[2]}');\n",
        "plt.plot(max, label=f'Max Values: Min Value={min_max[0]}{min_max[1]}{min_max[2]}');\n",
        "plt.xlabel(\"Epochs\", labelpad=14);\n",
        "plt.ylabel(\"Error (N)\", labelpad=14);\n",
        "plt.title(f\"Testing Error {model_dir}\", fontsize=20);\n",
        "#tick_labels = [i*10 for i in range(20)];\n",
        "plt.xticks(np.arange(0,101, 10));\n",
        "plt.grid(True);\n",
        "plt.legend(loc=2, prop={'size': 8})\n",
        "plt.tight_layout();\n",
        "plt.show()\n"
      ],
      "execution_count": null,
      "outputs": []
    },
    {
      "cell_type": "code",
      "metadata": {
        "id": "GTlkGAyffU1X"
      },
      "source": [
        "path = get_path()\n",
        "pdf = PdfPages(path + \"/error.pdf\")\n",
        "\n",
        "# save the current figure\n",
        "pdf.savefig(fig);\n",
        "# destroy the current figure\n",
        "plt.clf()\n",
        "# close the object\n",
        "pdf.close()\n"
      ],
      "execution_count": null,
      "outputs": []
    }
  ]
}